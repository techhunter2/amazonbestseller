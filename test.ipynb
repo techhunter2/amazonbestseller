{
 "cells": [
  {
   "cell_type": "code",
   "execution_count": 1,
   "metadata": {},
   "outputs": [
    {
     "name": "stdout",
     "output_type": "stream",
     "text": [
      "-----This is demo exe this will scrap only one product from each category----\n"
     ]
    }
   ],
   "source": [
    "from selenium import webdriver\n",
    "from selenium.webdriver.chrome.options import Options\n",
    "from selenium.webdriver.common.by import By\n",
    "Options = webdriver.ChromeOptions()\n",
    "Options.add_experimental_option('excludeSwitches', ['enable-logging'])\n",
    "driver = webdriver.Chrome(options=Options)\n",
    "import requests as r\n",
    "from lxml import html\n",
    "import pandas as pd\n",
    "import csv\n",
    "from datetime import date\n",
    "import time\n",
    "print(\"-----This is demo exe this will scrap only one product from each category----\")\n",
    "headers = {\n",
    "    'User-Agent': 'Mozilla/5.0 (Windows NT 10.0; Win64; x64) AppleWebKit/537.36 (KHTML, like Gecko) Chrome/105.0.0.0 Safari/537.36',\n",
    "  }\n",
    "# all_data = []\n",
    "# print(\"----------- Scrapping Started -----------\")\n",
    "# driver.get(\"https://www.amazon.sg/gp/bestsellers\")"
   ]
  },
  {
   "cell_type": "code",
   "execution_count": 2,
   "metadata": {},
   "outputs": [],
   "source": [
    "driver.get(\"https://www.reddit.com/r/CasualConversation/comments/10y1vyi/can_we_talk_about_why_you_dont_want_a_bidet_in/\")"
   ]
  },
  {
   "cell_type": "code",
   "execution_count": 3,
   "metadata": {},
   "outputs": [],
   "source": [
    "import time\n",
    "def scroll(driver, timeout):\n",
    "    scroll_pause_time = timeout\n",
    "    last_height = driver.execute_script(\"return document.body.scrollHeight\")\n",
    "    count = 1\n",
    "    while True:\n",
    "        for scrol in range(100,last_height,150):\n",
    "            driver.execute_script(f\"window.scrollTo(0,{scrol})\")\n",
    "            time.sleep(0.2)\n",
    "        time.sleep(scroll_pause_time)\n",
    "        new_height = driver.execute_script(\"return document.body.scrollHeight\")\n",
    "        if new_height == last_height:\n",
    "            break\n",
    "        last_height = new_height\n",
    "        if count ==2:\n",
    "            break\n",
    "        count=+1"
   ]
  },
  {
   "cell_type": "code",
   "execution_count": 11,
   "metadata": {},
   "outputs": [],
   "source": [
    "ids = driver.find_elements(By.XPATH,\"//a[@data-testid='comment_author_link']\")"
   ]
  },
  {
   "cell_type": "code",
   "execution_count": 12,
   "metadata": {},
   "outputs": [
    {
     "data": {
      "text/plain": [
       "241"
      ]
     },
     "execution_count": 12,
     "metadata": {},
     "output_type": "execute_result"
    }
   ],
   "source": [
    "len(ids)"
   ]
  },
  {
   "cell_type": "code",
   "execution_count": 16,
   "metadata": {},
   "outputs": [],
   "source": [
    "all_id = [i.text for i in ids]"
   ]
  },
  {
   "cell_type": "code",
   "execution_count": 17,
   "metadata": {},
   "outputs": [
    {
     "data": {
      "text/plain": [
       "['Visual_Slide710',\n",
       " 'superpouper',\n",
       " 'Tygria',\n",
       " 'Disgruntled_Viking',\n",
       " 'Aldermere',\n",
       " 'Coconut-Lemon_Pie',\n",
       " '-5th',\n",
       " 'Shin_Yi',\n",
       " 'DebMo_Cu',\n",
       " 'MarkedByFerocity',\n",
       " 'AdFew7336',\n",
       " 'CannolisRUs',\n",
       " 'Skyblacker',\n",
       " 'dydeath',\n",
       " 'JennItalia269',\n",
       " 'No_Pomegranate2580',\n",
       " 'Different_Knee6201',\n",
       " 'Korzag',\n",
       " 'Caring_Cactus',\n",
       " 'bayarealovefest',\n",
       " 'moist-v0n-lipwig',\n",
       " 'delehe',\n",
       " 'm-mianaai',\n",
       " 'Ouch-MyBack',\n",
       " 'NuttyC1ub',\n",
       " 'Angelicfyre',\n",
       " 'Moist_Dump',\n",
       " 'Diogenes71',\n",
       " 'Mareellen',\n",
       " 'Disgruntled_Viking',\n",
       " 'Dickiedoandthedonts',\n",
       " 'nolanswuts',\n",
       " 'OnionLegend',\n",
       " 'CannolisRUs',\n",
       " 'mullingthingsover',\n",
       " 'CannolisRUs',\n",
       " 'RayAfterDark',\n",
       " 'ShabbyBash',\n",
       " 'CannolisRUs',\n",
       " 'Sheesha1992',\n",
       " 'CannolisRUs',\n",
       " 'Skyblacker',\n",
       " 'Squigglefunk',\n",
       " 'stickycat-inahole-45',\n",
       " 'TootsNYC',\n",
       " 'always2blamejane',\n",
       " 'Ouch-MyBack',\n",
       " '3username20charactrz',\n",
       " 'BreadMaker_42',\n",
       " 'LongWalk86',\n",
       " 'Lotus_29',\n",
       " 'Joe109885',\n",
       " 'NuttyC1ub',\n",
       " 'CatInACrowd',\n",
       " 'CannolisRUs',\n",
       " 'janananners',\n",
       " 'ThoroughExploitation',\n",
       " 'JigglyPumpkin',\n",
       " 'Hanginon',\n",
       " 'Tripiantes',\n",
       " 'Emily1214',\n",
       " 'HackySmacks',\n",
       " 'brownsugarespresso',\n",
       " 'boutiquekym',\n",
       " 'Drougen',\n",
       " 'RazzmatazzNo3560',\n",
       " 'Intrepid_Talk_8416',\n",
       " 'SushiMelanie',\n",
       " 'CannolisRUs',\n",
       " 'spider_squirrel',\n",
       " 'CannolisRUs',\n",
       " 'TheFragturedNerd',\n",
       " 'CannolisRUs',\n",
       " 'ladyfox_9',\n",
       " 'ex0ll',\n",
       " 'periphery72271',\n",
       " 'ThoroughExploitation',\n",
       " 'CannolisRUs',\n",
       " 'NuttyC1ub',\n",
       " 'Admissful',\n",
       " 'otterknot',\n",
       " 'number93bus',\n",
       " 'sinnickson',\n",
       " 'TheCreed381',\n",
       " 'Moist_Dump',\n",
       " 'Angelicfyre',\n",
       " 'CannolisRUs',\n",
       " 'Bluemonogi',\n",
       " 'CannolisRUs',\n",
       " 'unicorn-paid-artist',\n",
       " 'sizzlinsunshine',\n",
       " 'FBI_Open_Up_Now',\n",
       " 'MarkedByFerocity',\n",
       " 'CannolisRUs',\n",
       " 'stephers85',\n",
       " 'CannolisRUs',\n",
       " 'KCDC3D',\n",
       " '-RainbowSkeleton-',\n",
       " 'IAmNotDrDavis',\n",
       " 'natsugrayerza',\n",
       " 'EvokeWonder',\n",
       " 'Nobodyville',\n",
       " 'tans1saw',\n",
       " 'Ancient_Edge2415',\n",
       " 'dfmock',\n",
       " 'drumorgan',\n",
       " 'THEREALISLAND631',\n",
       " 'SluttyNeighborGal',\n",
       " 'MarianaFrusciante',\n",
       " 'jcwillia1',\n",
       " 'MadCowObsession',\n",
       " 'MadCowObsession',\n",
       " 'ZenwalkerNS',\n",
       " 'CannolisRUs',\n",
       " 'Scary-Alternative-11',\n",
       " 'ceresbulls',\n",
       " 'TerraGamer9384',\n",
       " 'typhoidmarry',\n",
       " 'Stanky_pxyko',\n",
       " 'Concord2018',\n",
       " 'EvokeWonder',\n",
       " 'methough1',\n",
       " 'Early_Bookkeeper5394',\n",
       " 'FHIR_HL7_Integrator',\n",
       " 'Kat_337',\n",
       " 'Teh-Leviathan',\n",
       " 'RyanMFoley74',\n",
       " 'ms131313',\n",
       " 'molten_dragon',\n",
       " 'CannolisRUs',\n",
       " 'Buzzzzzoff',\n",
       " 'CannolisRUs',\n",
       " 'Startrail_wanderer',\n",
       " 'LillyLallyLu',\n",
       " 'pchandler45',\n",
       " 'Kyoufu_wafuku',\n",
       " 'No_Pomegranate2580',\n",
       " 'luv2belis',\n",
       " 'Awildnoraappears',\n",
       " 'Morningsunshine-',\n",
       " 'CannolisRUs',\n",
       " 'palbertalamp',\n",
       " 'blondy26',\n",
       " 'willbeach8890',\n",
       " 'CannolisRUs',\n",
       " 'RayAfterDark',\n",
       " 'neuro_illogical',\n",
       " 'gpstrucker',\n",
       " 'sybann',\n",
       " 'spankybianky',\n",
       " 'juandic24',\n",
       " 'Georgiaboy1492',\n",
       " 'HerctheeHero',\n",
       " 'jszly',\n",
       " 'stuffincannedolives',\n",
       " 'frealfr',\n",
       " 'superobnoxiouspirate',\n",
       " 'darkywitch',\n",
       " 'GrillDealing',\n",
       " 'TheConceitedSister',\n",
       " 'Natirix',\n",
       " 'Alan_Smithee_',\n",
       " 'apogeescintilla',\n",
       " 'Objective-Guidance78',\n",
       " 'Tsunami2112',\n",
       " 'drbob4512',\n",
       " 'IceColdYerbaMate',\n",
       " 'nolanswuts',\n",
       " 'foxbase',\n",
       " 'ice1000',\n",
       " 'nokenito',\n",
       " 'pakepake',\n",
       " 'Jimmyboro',\n",
       " 'CeaseNY',\n",
       " 'vhisic',\n",
       " 'galaxygirl978',\n",
       " 'dunkeebutt',\n",
       " 'yeahthisiswhoyouare',\n",
       " 'AdorableEquipment',\n",
       " 'Sp1kefallSteve',\n",
       " 'Brikandbones',\n",
       " 'bbbriz',\n",
       " 'JennItalia269',\n",
       " '22_02',\n",
       " 'Darth_Jad3r',\n",
       " 'anonymousanonymiss',\n",
       " 'livinginthewild',\n",
       " 'orange_glasse',\n",
       " 'Chickachic-aaaaahhh',\n",
       " 'annonymark',\n",
       " 'ginnymoons',\n",
       " 'silky_tears',\n",
       " 'Plupert',\n",
       " 'leeshylou',\n",
       " 'Western_Ad6107',\n",
       " 'ShotTreacle8209',\n",
       " 'medicmaster16',\n",
       " 'CannolisRUs',\n",
       " 'CrayonDelicacies',\n",
       " 'tinyhorseintapshoes',\n",
       " 'ProtocolPro23',\n",
       " 'CheeseFace83',\n",
       " 'My-name-aint-Susan',\n",
       " 'PapasBlox',\n",
       " 'CALLMEWHATYOUWANT000',\n",
       " 'Tall_Disk_5375',\n",
       " 'Spazzly0ne',\n",
       " 'munuyh',\n",
       " 'NuttyC1ub',\n",
       " 'FoxNewsIsRussia',\n",
       " 'EddGarasjen',\n",
       " 'kisschicken',\n",
       " 'CannolisRUs',\n",
       " 'CoolRoe',\n",
       " 'Lares976',\n",
       " 'D_Rock_CO',\n",
       " 'hardcore_centrist',\n",
       " 'CannolisRUs',\n",
       " 'ghfdghjkhg',\n",
       " 'pienoceros',\n",
       " 'ConstantHawk-2241',\n",
       " 'otterknot',\n",
       " 'AsiaNxNinja',\n",
       " 'CaptSharn',\n",
       " 'CyberHoff',\n",
       " 'soberyogini',\n",
       " 'BilboBagginkins',\n",
       " 'c9nw',\n",
       " 'MisterSlosh',\n",
       " 'orchidsforme',\n",
       " 'No-Quarter6268',\n",
       " 'HowRememberAll',\n",
       " 'Palaborola',\n",
       " 'WritingConsultant101',\n",
       " 'gabrielleraul',\n",
       " 'Cressonette',\n",
       " 'BrightStarNSEW',\n",
       " 'BDoorBetty',\n",
       " 'shyinka',\n",
       " 'Successful-Process53',\n",
       " 'BuddhaBelly789']"
      ]
     },
     "execution_count": 17,
     "metadata": {},
     "output_type": "execute_result"
    }
   ],
   "source": [
    "all_id"
   ]
  },
  {
   "cell_type": "code",
   "execution_count": 18,
   "metadata": {},
   "outputs": [],
   "source": [
    "import csv\n",
    "with open('id_data.csv', 'w', newline='') as file:\n",
    "    writer = csv.writer(file)\n",
    "    # Write each item in the list as a separate row in the CSV file\n",
    "    for item in all_id:\n",
    "        writer.writerow([item])\n"
   ]
  },
  {
   "cell_type": "code",
   "execution_count": 7,
   "metadata": {},
   "outputs": [],
   "source": [
    "element = driver.find_elements(By.XPATH,\"//*[contains(text(), '97 more replies')]\")"
   ]
  },
  {
   "cell_type": "code",
   "execution_count": 9,
   "metadata": {},
   "outputs": [
    {
     "data": {
      "text/plain": [
       "{'x': 38, 'y': 1}"
      ]
     },
     "execution_count": 9,
     "metadata": {},
     "output_type": "execute_result"
    }
   ],
   "source": [
    "element[0].location_once_scrolled_into_view"
   ]
  },
  {
   "cell_type": "code",
   "execution_count": 10,
   "metadata": {},
   "outputs": [],
   "source": [
    "element[0].click()"
   ]
  },
  {
   "cell_type": "code",
   "execution_count": 19,
   "metadata": {},
   "outputs": [],
   "source": [
    "driver.close()"
   ]
  },
  {
   "cell_type": "code",
   "execution_count": 2,
   "metadata": {},
   "outputs": [],
   "source": [
    "categories = [li.get_attribute(\"href\") for li in driver.find_elements(By.XPATH,\"//div[@class='_p13n-zg-nav-tree-all_style_zg-browse-group__88fbz']/div/a\")]"
   ]
  },
  {
   "cell_type": "code",
   "execution_count": 3,
   "metadata": {},
   "outputs": [
    {
     "data": {
      "text/plain": [
       "24"
      ]
     },
     "execution_count": 3,
     "metadata": {},
     "output_type": "execute_result"
    }
   ],
   "source": [
    "len(categories)"
   ]
  },
  {
   "cell_type": "code",
   "execution_count": 4,
   "metadata": {},
   "outputs": [],
   "source": [
    "import re"
   ]
  },
  {
   "cell_type": "code",
   "execution_count": 22,
   "metadata": {},
   "outputs": [
    {
     "name": "stdout",
     "output_type": "stream",
     "text": [
      "kitchen\n"
     ]
    }
   ],
   "source": [
    "catg = re.search(r'/bestsellers/([^/]+)', categories[13], flags=re.IGNORECASE)\n",
    "if catg:\n",
    "  print(catg.group(1))"
   ]
  },
  {
   "cell_type": "code",
   "execution_count": 9,
   "metadata": {},
   "outputs": [
    {
     "data": {
      "text/plain": [
       "['https://www.amazon.sg/Pigeon-Baby-Wipes-Water-Packaging/dp/B00AW8UNTI/ref=zg_bs_baby_sccl_1/357-5793461-3988321?psc=1',\n",
       " 'https://www.amazon.sg/Huggies-Clean-Care-Wipes-count/dp/B0725HTZBR/ref=zg_bs_baby_sccl_2/357-5793461-3988321?psc=1',\n",
       " 'https://www.amazon.sg/Kodomo-Wipes-Triple-Refreshing-packaging/dp/B07417NJCK/ref=zg_bs_baby_sccl_3/357-5793461-3988321?psc=1',\n",
       " 'https://www.amazon.sg/Pampers-Premium-Pants-Diapers-count/dp/B0BJ2MSJ84/ref=zg_bs_baby_sccl_4/357-5793461-3988321?psc=1',\n",
       " 'https://www.amazon.sg/Merries-Pants-Up-44ct-Pack/dp/B0925M8W5G/ref=zg_bs_baby_sccl_5/357-5793461-3988321?psc=1',\n",
       " 'https://www.amazon.sg/White-Noise-Machine-Rechargeable-Go/dp/B086JJS51X/ref=zg_bs_baby_sccl_6/357-5793461-3988321?psc=1',\n",
       " 'https://www.amazon.sg/Aveeno-Baby-Shampoo-532ml-milliliters/dp/B08GNJLMF2/ref=zg_bs_baby_sccl_7/357-5793461-3988321?psc=1',\n",
       " 'https://www.amazon.sg/Johnsons-Baby-Active-Shiny-Shampoo/dp/B076P93YX4/ref=zg_bs_baby_sccl_8/357-5793461-3988321?psc=1',\n",
       " 'https://www.amazon.sg/Merries-Tape-Diapers-L-54ct/dp/B0018JBJ5C/ref=zg_bs_baby_sccl_9/357-5793461-3988321?psc=1',\n",
       " 'https://www.amazon.sg/Drypers-Drypantz-Diapers-15-25kg-28ct/dp/B071LJPKXW/ref=zg_bs_baby_sccl_10/357-5793461-3988321?psc=1',\n",
       " 'https://www.amazon.sg/Pampers-Premium-Pants-Diapers-packaging/dp/B084PH91BF/ref=zg_bs_baby_sccl_11/357-5793461-3988321?psc=1',\n",
       " 'https://www.amazon.sg/Huggies-Little-Swimmers-Pants-count/dp/B014EYTW74/ref=zg_bs_baby_sccl_12/357-5793461-3988321?psc=1',\n",
       " 'https://www.amazon.sg/Cybex-Travel-Liberty-Black-Pack/dp/B08L1FZWYB/ref=zg_bs_baby_sccl_13/357-5793461-3988321?psc=1',\n",
       " 'https://www.amazon.sg/Fluff-Toddler-Pillowcase-Pink-Bunny/dp/B01CVA1618/ref=zg_bs_baby_sccl_14/357-5793461-3988321?psc=1',\n",
       " 'https://www.amazon.sg/WaterWipes-Sensitive-Wipes-Unscented-Count/dp/B008KJQMA0/ref=zg_bs_baby_sccl_15/357-5793461-3988321?psc=1',\n",
       " 'https://www.amazon.sg/VTech-80-077001-Stand-Learning-Walker/dp/B0053X62GK/ref=zg_bs_baby_sccl_16/357-5793461-3988321?psc=1',\n",
       " 'https://www.amazon.sg/Pigeon-Liquid-Cleanser-Refill-650ml/dp/B071F4J2MY/ref=zg_bs_baby_sccl_17/357-5793461-3988321?psc=1',\n",
       " 'https://www.amazon.sg/Mamaearth-Nourishing-Almond-Avocado-100ml/dp/B0784BVPJ4/ref=zg_bs_baby_sccl_18/357-5793461-3988321?psc=1',\n",
       " 'https://www.amazon.sg/Sterimar-Hyphens-Pharma-Baby-50Ml/dp/B003VMR7A0/ref=zg_bs_baby_sccl_19/357-5793461-3988321?psc=1',\n",
       " 'https://www.amazon.sg/Aveeno-Baby-Dermexa-Moisturizing-Cream/dp/B003BJZ1P6/ref=zg_bs_baby_sccl_20/357-5793461-3988321?psc=1',\n",
       " 'https://www.amazon.sg/Sudocrem-Antiseptic-Healing-Cream-grams/dp/B000ZLQJHC/ref=zg_bs_baby_sccl_21/357-5793461-3988321?psc=1',\n",
       " 'https://www.amazon.sg/MamyPoko-Pants-Girl-Count-Pack/dp/B071KWHLLP/ref=zg_bs_baby_sccl_22/357-5793461-3988321?psc=1',\n",
       " 'https://www.amazon.sg/MamyPoko-Pants-Girl-Count-Pack/dp/B071DQ44HL/ref=zg_bs_baby_sccl_23/357-5793461-3988321?psc=1',\n",
       " 'https://www.amazon.sg/Huggies-Pure-Clean-Wipes-count/dp/B083LZ7JHX/ref=zg_bs_baby_sccl_24/357-5793461-3988321?psc=1',\n",
       " 'https://www.amazon.sg/MamyPoko-Kids-Pants-Girl-XXXL/dp/B0718YW3X7/ref=zg_bs_baby_sccl_25/357-5793461-3988321?psc=1',\n",
       " 'https://www.amazon.sg/Pampers-Premium-Care-Pants-White/dp/B0743DHFJM/ref=zg_bs_baby_sccl_26/357-5793461-3988321?psc=1',\n",
       " 'https://www.amazon.sg/Splashinkids-Inflatable-Toddlers-Activity-Stimulation/dp/B07FLMNQRG/ref=zg_bs_baby_sccl_27/357-5793461-3988321?psc=1',\n",
       " 'https://www.amazon.sg/Pigeon-Natural-Nipple-Shield-count/dp/B0879LF4Y6/ref=zg_bs_baby_sccl_28/357-5793461-3988321?psc=1',\n",
       " 'https://www.amazon.sg/Ubbi-Disposable-Lavender-Recycled-Material/dp/B07J54TGXY/ref=zg_bs_baby_sccl_29/357-5793461-3988321?psc=1',\n",
       " 'https://www.amazon.sg/Huggies-Platinum-Naturemade-Pants-count/dp/B08ZVRBWT2/ref=zg_bs_baby_sccl_30/357-5793461-3988321?psc=1']"
      ]
     },
     "execution_count": 9,
     "metadata": {},
     "output_type": "execute_result"
    }
   ],
   "source": [
    "pro_links1"
   ]
  },
  {
   "cell_type": "code",
   "execution_count": 3,
   "metadata": {},
   "outputs": [],
   "source": [
    "driver.get(categories[1])\n",
    "driver.implicitly_wait(5)\n",
    "element = driver.find_element(By.XPATH,\"//a[contains(text(),'Next page')]\")\n",
    "driver.execute_script(\"arguments[0].scrollIntoView();\", element)\n",
    "time.sleep(2)\n",
    "pro_links1 = [pro.get_attribute(\"href\") for pro in driver.find_elements(By.XPATH,\".//div[@class='zg-grid-general-faceout']/div/a[1]\")]\n"
   ]
  },
  {
   "cell_type": "code",
   "execution_count": 8,
   "metadata": {},
   "outputs": [],
   "source": [
    "driver.get(\"https://www.amazon.sg/Huggies-Clean-Care-Wipes-count/dp/B0725HTZBR/ref=zg_bs_baby_sccl_1/355-9926336-0064446?psc=1\")"
   ]
  },
  {
   "cell_type": "code",
   "execution_count": 24,
   "metadata": {},
   "outputs": [],
   "source": [
    "driver.find_element(By.XPATH,\"//div[@id='merchant-info']//span\").get_attribute('text')"
   ]
  },
  {
   "cell_type": "code",
   "execution_count": 25,
   "metadata": {},
   "outputs": [],
   "source": [
    "\n",
    "html_content = driver.page_source"
   ]
  },
  {
   "cell_type": "code",
   "execution_count": 29,
   "metadata": {},
   "outputs": [],
   "source": [
    "tree = html.fromstring(html_content)\n",
    "text = data.xpath('string(//div[@id=\"merchant-info\"]//span//text())').strip()"
   ]
  },
  {
   "cell_type": "code",
   "execution_count": 30,
   "metadata": {},
   "outputs": [
    {
     "data": {
      "text/plain": [
       "'Ships from and sold by Amazon SG.'"
      ]
     },
     "execution_count": 30,
     "metadata": {},
     "output_type": "execute_result"
    }
   ],
   "source": [
    "text"
   ]
  },
  {
   "cell_type": "code",
   "execution_count": 10,
   "metadata": {},
   "outputs": [],
   "source": [
    "height = driver.execute_script(\"return document.body.scrollHeight\")\n",
    "element.click()\n",
    "driver.implicitly_wait(5)\n",
    "element1= driver.find_element(By.XPATH,\"//a[contains(text(),'2')]\")\n",
    "for scrol in range(100,height,150):\n",
    "    driver.execute_script(f\"window.scrollTo(0,{scrol})\")\n",
    "    time.sleep(0.3)\n",
    "driver.execute_script(\"window.scrollTo(0, document.body.scrollHeight);\")\n",
    "time.sleep(5)\n",
    "try:\n",
    "    driver.execute_script(\"arguments[0].scrollIntoView();\", element1)\n",
    "except:\n",
    "    pass\n",
    "pro_links = pro_links1 + [pro.get_attribute(\"href\") for pro in driver.find_elements(By.XPATH,\".//div[@class='zg-grid-general-faceout']/div/a[1]\")]\n"
   ]
  },
  {
   "cell_type": "code",
   "execution_count": 15,
   "metadata": {},
   "outputs": [],
   "source": [
    "li = pro_links[0]"
   ]
  },
  {
   "cell_type": "code",
   "execution_count": 12,
   "metadata": {},
   "outputs": [],
   "source": [
    "li ='https://www.amazon.sg/Meguiar-G7164-Class-Shampoo-Conditioner/dp/B0009IQXFO/ref=zg_bs_automotive_sccl_1/356-7612797-1452314?psc=1'"
   ]
  },
  {
   "cell_type": "code",
   "execution_count": 16,
   "metadata": {},
   "outputs": [],
   "source": [
    "import requests as r\n",
    "from lxml import html"
   ]
  },
  {
   "cell_type": "code",
   "execution_count": 17,
   "metadata": {},
   "outputs": [],
   "source": [
    "headers = {\n",
    "    'User-Agent': 'Mozilla/5.0 (Windows NT 10.0; Win64; x64) AppleWebKit/537.36 (KHTML, like Gecko) Chrome/105.0.0.0 Safari/537.36',\n",
    "  }"
   ]
  },
  {
   "cell_type": "code",
   "execution_count": 25,
   "metadata": {},
   "outputs": [],
   "source": [
    "prop_content = r.get(li,headers=headers)\n",
    "data = html.fromstring(prop_content.content)"
   ]
  },
  {
   "cell_type": "code",
   "execution_count": 28,
   "metadata": {},
   "outputs": [],
   "source": [
    "from lxml import html"
   ]
  },
  {
   "cell_type": "code",
   "execution_count": 32,
   "metadata": {},
   "outputs": [],
   "source": [
    "tree = html.fromstring(prop_content.content)\n"
   ]
  },
  {
   "cell_type": "code",
   "execution_count": 35,
   "metadata": {},
   "outputs": [
    {
     "data": {
      "text/plain": [
       "''"
      ]
     },
     "execution_count": 35,
     "metadata": {},
     "output_type": "execute_result"
    }
   ],
   "source": [
    "tree.xpath(\"string(//div[@id='merchant-info']//span)\").strip()"
   ]
  },
  {
   "cell_type": "code",
   "execution_count": 26,
   "metadata": {},
   "outputs": [
    {
     "data": {
      "text/plain": [
       "'Kao Singapore Pte Ltd'"
      ]
     },
     "execution_count": 26,
     "metadata": {},
     "output_type": "execute_result"
    }
   ],
   "source": [
    "data.xpath(\"//th[contains(text(),'Manufacturer')]/following-sibling::td\")[0].text.strip().replace('\\u200e', '')"
   ]
  },
  {
   "cell_type": "code",
   "execution_count": 24,
   "metadata": {},
   "outputs": [],
   "source": [
    "li =pro_links[8]"
   ]
  },
  {
   "cell_type": "code",
   "execution_count": 27,
   "metadata": {},
   "outputs": [
    {
     "data": {
      "text/plain": [
       "''"
      ]
     },
     "execution_count": 27,
     "metadata": {},
     "output_type": "execute_result"
    }
   ],
   "source": [
    "data.xpath(\"//*[@id='merchant-info']/span[1]\")[0].text.strip()"
   ]
  },
  {
   "cell_type": "code",
   "execution_count": 21,
   "metadata": {},
   "outputs": [
    {
     "data": {
      "text/plain": [
       "'in Baby Products'"
      ]
     },
     "execution_count": 21,
     "metadata": {},
     "output_type": "execute_result"
    }
   ],
   "source": [
    "data.xpath(\"//span[@class='cat-link']\")[0].text"
   ]
  },
  {
   "cell_type": "code",
   "execution_count": 22,
   "metadata": {},
   "outputs": [
    {
     "data": {
      "text/plain": [
       "'Pigeon'"
      ]
     },
     "execution_count": 22,
     "metadata": {},
     "output_type": "execute_result"
    }
   ],
   "source": [
    "data.xpath(\"//th[contains(text(),'Manufacturer')]/following-sibling::td\")[0].text.strip().replace('\\u200e', '')"
   ]
  },
  {
   "cell_type": "code",
   "execution_count": null,
   "metadata": {},
   "outputs": [
    {
     "data": {
      "text/plain": [
       "'Sudocrem Antiseptic Healing Cream, 125 grams'"
      ]
     },
     "execution_count": 66,
     "metadata": {},
     "output_type": "execute_result"
    }
   ],
   "source": [
    "data.xpath(\"//span[@id='productTitle']\")[0].text.strip()"
   ]
  },
  {
   "cell_type": "code",
   "execution_count": null,
   "metadata": {},
   "outputs": [
    {
     "name": "stdout",
     "output_type": "stream",
     "text": [
      "https://www.amazon.sg/Apple-20W-USB-C-Power-Adapter/dp/B08L85KDV5/ref=zg_bs_electronics_sccl_1/355-9287108-9065922?psc=1\n",
      "https://www.amazon.sg/Apple-MQD83-AirPods-Pro-2nd-generation/dp/B0BDKGNMDJ/ref=zg_bs_electronics_sccl_2/355-9287108-9065922?psc=1\n"
     ]
    }
   ],
   "source": [
    "for url in pro_links1[:2]:\n",
    "      prop_data = {}\n",
    "      print(url)\n",
    "      prop_content = r.get(url,headers=headers)\n",
    "      data = html.fromstring(prop_content.content)\n",
    "      prop_data['Date'] = str(date.today())\n",
    "      try:\n",
    "        prop_data['Title'] =data.xpath(\"//span[@id='productTitle']\")[0].text.strip()\n",
    "      except:\n",
    "        prop_data['Title'] = ''\n",
    "      try:\n",
    "        prop_data['Price'] = data.xpath(\"//div[@class='a-section a-spacing-none aok-align-center']/span/span\")[0].text\n",
    "      except:\n",
    "        prop_data['Price'] = ''\n",
    "      try:\n",
    "        prop_data['No of Rating'] = data.xpath(\"//span[@id='acrCustomerReviewText']\")[0].text.strip()\n",
    "      except:\n",
    "        prop_data['No of Rating'] = ''\n",
    "      try:\n",
    "        prop_data['Manufacturer'] = data.xpath(\"//th[contains(text(),'Manufacturer')]/following-sibling::td\")[0].text.strip().replace('\\u200e', '')\n",
    "      except:\n",
    "        prop_data['Manufacturer'] = ''\n",
    "      try:\n",
    "        asin = re.search(r'/[dg]p/([^/]+)', pro_links[1], flags=re.IGNORECASE)\n",
    "        if asin:\n",
    "          prop_data['ASIN'] = asin.group(1)\n",
    "        else:\n",
    "          prop_data['ASIN'] = ''\n",
    "      except:\n",
    "        prop_data['ASIN'] = ''\n",
    "      try:\n",
    "        prop_data['Best_Seller_In'] = data.xpath(\"//span[@class='cat-link']\")[0].text\n",
    "      except:\n",
    "        prop_data['Best_Seller_In'] = ''\n",
    "      try:\n",
    "        prop_data['Sold By'] = data.xpath(\"//div[@id='merchant-info']/a/span/text()\")[0]\n",
    "      except:\n",
    "        prop_data['Sold By'] = ''\n",
    "      try:\n",
    "        prop_data['Rating'] = data.xpath(\"//i[@class='a-icon a-icon-star a-star-4-5']/span\")[0].text\n",
    "      except:\n",
    "        prop_data['Rating'] = ''\n",
    "      try:\n",
    "        prop_data['International Ratings'] = data.xpath(\"//div[@class='a-box a-spacing-none a-color-alternate-background review']/div\")[0].text.strip()\n",
    "      except:\n",
    "        prop_data['International Ratings'] = ''\n",
    "      try:\n",
    "        prop_data['Global Rating'] = data.xpath(\"//div[@data-hook='total-review-count']/span/text()\")[0].strip()\n",
    "      except:\n",
    "        prop_data['Global Rating'] = ''\n",
    "      prop_data['Url'] = url\n",
    "      all_data.append(prop_data)\n",
    "driver.quit()\n",
    "df=pd.DataFrame(all_data)"
   ]
  },
  {
   "cell_type": "code",
   "execution_count": null,
   "metadata": {},
   "outputs": [
    {
     "data": {
      "text/html": [
       "<div>\n",
       "<style scoped>\n",
       "    .dataframe tbody tr th:only-of-type {\n",
       "        vertical-align: middle;\n",
       "    }\n",
       "\n",
       "    .dataframe tbody tr th {\n",
       "        vertical-align: top;\n",
       "    }\n",
       "\n",
       "    .dataframe thead th {\n",
       "        text-align: right;\n",
       "    }\n",
       "</style>\n",
       "<table border=\"1\" class=\"dataframe\">\n",
       "  <thead>\n",
       "    <tr style=\"text-align: right;\">\n",
       "      <th></th>\n",
       "      <th>Date</th>\n",
       "      <th>Title</th>\n",
       "      <th>Price</th>\n",
       "      <th>No of Rating</th>\n",
       "      <th>Manufacturer</th>\n",
       "      <th>ASIN</th>\n",
       "      <th>Best_Seller_In</th>\n",
       "      <th>Sold By</th>\n",
       "      <th>Rating</th>\n",
       "      <th>International Ratings</th>\n",
       "      <th>Global Rating</th>\n",
       "      <th>Url</th>\n",
       "    </tr>\n",
       "  </thead>\n",
       "  <tbody>\n",
       "    <tr>\n",
       "      <th>0</th>\n",
       "      <td>2022-12-27</td>\n",
       "      <td>Premium Chamois Drying Cloth Car Drying Towel ...</td>\n",
       "      <td></td>\n",
       "      <td>4 ratings</td>\n",
       "      <td>Ayvicco</td>\n",
       "      <td>B01ISAMUA6</td>\n",
       "      <td></td>\n",
       "      <td></td>\n",
       "      <td></td>\n",
       "      <td></td>\n",
       "      <td>4 global ratings</td>\n",
       "      <td>https://www.amazon.sg/Premium-Chamois-Absorben...</td>\n",
       "    </tr>\n",
       "    <tr>\n",
       "      <th>1</th>\n",
       "      <td>2022-12-27</td>\n",
       "      <td>Merries Pants Volume Up XL, 44ct (Pack of 2)</td>\n",
       "      <td></td>\n",
       "      <td>6 ratings</td>\n",
       "      <td>Merries</td>\n",
       "      <td>B083LZ7JHX</td>\n",
       "      <td>in Baby Products</td>\n",
       "      <td></td>\n",
       "      <td></td>\n",
       "      <td></td>\n",
       "      <td>6 global ratings</td>\n",
       "      <td>https://www.amazon.sg/Merries-Pants-Up-44ct-Pa...</td>\n",
       "    </tr>\n",
       "    <tr>\n",
       "      <th>2</th>\n",
       "      <td>2022-12-27</td>\n",
       "      <td>CeraVe PM Facial Moisturizing Lotion | Night C...</td>\n",
       "      <td></td>\n",
       "      <td>41,810 ratings</td>\n",
       "      <td>CeraVe</td>\n",
       "      <td>B07VWSN95S</td>\n",
       "      <td>in Beauty</td>\n",
       "      <td></td>\n",
       "      <td>4.7 out of 5 stars</td>\n",
       "      <td></td>\n",
       "      <td>41,810 global ratings</td>\n",
       "      <td>https://www.amazon.sg/CeraVe-Moisturizing-Niac...</td>\n",
       "    </tr>\n",
       "    <tr>\n",
       "      <th>3</th>\n",
       "      <td>2022-12-27</td>\n",
       "      <td>The Psychology of Money: Timeless lessons on w...</td>\n",
       "      <td></td>\n",
       "      <td>9,091 ratings</td>\n",
       "      <td></td>\n",
       "      <td>0241621240</td>\n",
       "      <td>in Books</td>\n",
       "      <td></td>\n",
       "      <td>4.7 out of 5 stars</td>\n",
       "      <td></td>\n",
       "      <td>9,091 global ratings</td>\n",
       "      <td>https://www.amazon.sg/Psychology-Money-Timeles...</td>\n",
       "    </tr>\n",
       "    <tr>\n",
       "      <th>4</th>\n",
       "      <td>2022-12-27</td>\n",
       "      <td>Cocoon GRID-IT Organizer Case, Black</td>\n",
       "      <td></td>\n",
       "      <td>1,943 ratings</td>\n",
       "      <td>Cocoon</td>\n",
       "      <td>B01MCVAHNA</td>\n",
       "      <td>in Computers</td>\n",
       "      <td></td>\n",
       "      <td>4.5 out of 5 stars</td>\n",
       "      <td>There are 0 reviews and 1 rating from Singapore</td>\n",
       "      <td>1,943 global ratings</td>\n",
       "      <td>https://www.amazon.sg/Cocoon-GRID-IT-Organizer...</td>\n",
       "    </tr>\n",
       "    <tr>\n",
       "      <th>5</th>\n",
       "      <td>2022-12-27</td>\n",
       "      <td>Extension Cord with Individual Switches, J Ele...</td>\n",
       "      <td></td>\n",
       "      <td>37 ratings</td>\n",
       "      <td>J Elektro</td>\n",
       "      <td>B087TH1R6T</td>\n",
       "      <td>in DIY &amp; Tools</td>\n",
       "      <td></td>\n",
       "      <td></td>\n",
       "      <td></td>\n",
       "      <td>37 global ratings</td>\n",
       "      <td>https://www.amazon.sg/Extension-Individual-Ele...</td>\n",
       "    </tr>\n",
       "    <tr>\n",
       "      <th>6</th>\n",
       "      <td>2022-12-27</td>\n",
       "      <td>Apple 20W USB-C Power Adapter</td>\n",
       "      <td>S$22.00</td>\n",
       "      <td>89 ratings</td>\n",
       "      <td>Apple</td>\n",
       "      <td>B0BDKGNMDJ</td>\n",
       "      <td></td>\n",
       "      <td></td>\n",
       "      <td>4.7 out of 5 stars</td>\n",
       "      <td></td>\n",
       "      <td>89 global ratings</td>\n",
       "      <td>https://www.amazon.sg/Apple-20W-USB-C-Power-Ad...</td>\n",
       "    </tr>\n",
       "    <tr>\n",
       "      <th>7</th>\n",
       "      <td>2022-12-27</td>\n",
       "      <td>Apple 20W USB-C Power Adapter</td>\n",
       "      <td>S$22.00</td>\n",
       "      <td>89 ratings</td>\n",
       "      <td></td>\n",
       "      <td>B0BDKGNMDJ</td>\n",
       "      <td></td>\n",
       "      <td></td>\n",
       "      <td>4.7 out of 5 stars</td>\n",
       "      <td></td>\n",
       "      <td>89 global ratings</td>\n",
       "      <td>https://www.amazon.sg/Apple-20W-USB-C-Power-Ad...</td>\n",
       "    </tr>\n",
       "    <tr>\n",
       "      <th>8</th>\n",
       "      <td>2022-12-27</td>\n",
       "      <td>Apple AirPods Pro (2nd generation) ​​​​​​​</td>\n",
       "      <td>S$359.00</td>\n",
       "      <td>109 ratings</td>\n",
       "      <td></td>\n",
       "      <td>B0BDKGNMDJ</td>\n",
       "      <td></td>\n",
       "      <td>EpicentreSG</td>\n",
       "      <td>4.5 out of 5 stars</td>\n",
       "      <td></td>\n",
       "      <td>109 global ratings</td>\n",
       "      <td>https://www.amazon.sg/Apple-MQD83-AirPods-Pro-...</td>\n",
       "    </tr>\n",
       "  </tbody>\n",
       "</table>\n",
       "</div>"
      ],
      "text/plain": [
       "         Date                                              Title     Price  \\\n",
       "0  2022-12-27  Premium Chamois Drying Cloth Car Drying Towel ...             \n",
       "1  2022-12-27       Merries Pants Volume Up XL, 44ct (Pack of 2)             \n",
       "2  2022-12-27  CeraVe PM Facial Moisturizing Lotion | Night C...             \n",
       "3  2022-12-27  The Psychology of Money: Timeless lessons on w...             \n",
       "4  2022-12-27               Cocoon GRID-IT Organizer Case, Black             \n",
       "5  2022-12-27  Extension Cord with Individual Switches, J Ele...             \n",
       "6  2022-12-27                      Apple 20W USB-C Power Adapter   S$22.00   \n",
       "7  2022-12-27                      Apple 20W USB-C Power Adapter   S$22.00   \n",
       "8  2022-12-27         Apple AirPods Pro (2nd generation) ​​​​​​​  S$359.00   \n",
       "\n",
       "     No of Rating Manufacturer        ASIN    Best_Seller_In      Sold By  \\\n",
       "0       4 ratings      Ayvicco  B01ISAMUA6                                  \n",
       "1       6 ratings      Merries  B083LZ7JHX  in Baby Products                \n",
       "2  41,810 ratings       CeraVe  B07VWSN95S         in Beauty                \n",
       "3   9,091 ratings               0241621240          in Books                \n",
       "4   1,943 ratings       Cocoon  B01MCVAHNA      in Computers                \n",
       "5      37 ratings    J Elektro  B087TH1R6T    in DIY & Tools                \n",
       "6      89 ratings        Apple  B0BDKGNMDJ                                  \n",
       "7      89 ratings               B0BDKGNMDJ                                  \n",
       "8     109 ratings               B0BDKGNMDJ                    EpicentreSG   \n",
       "\n",
       "               Rating                            International Ratings  \\\n",
       "0                                                                        \n",
       "1                                                                        \n",
       "2  4.7 out of 5 stars                                                    \n",
       "3  4.7 out of 5 stars                                                    \n",
       "4  4.5 out of 5 stars  There are 0 reviews and 1 rating from Singapore   \n",
       "5                                                                        \n",
       "6  4.7 out of 5 stars                                                    \n",
       "7  4.7 out of 5 stars                                                    \n",
       "8  4.5 out of 5 stars                                                    \n",
       "\n",
       "           Global Rating                                                Url  \n",
       "0       4 global ratings  https://www.amazon.sg/Premium-Chamois-Absorben...  \n",
       "1       6 global ratings  https://www.amazon.sg/Merries-Pants-Up-44ct-Pa...  \n",
       "2  41,810 global ratings  https://www.amazon.sg/CeraVe-Moisturizing-Niac...  \n",
       "3   9,091 global ratings  https://www.amazon.sg/Psychology-Money-Timeles...  \n",
       "4   1,943 global ratings  https://www.amazon.sg/Cocoon-GRID-IT-Organizer...  \n",
       "5      37 global ratings  https://www.amazon.sg/Extension-Individual-Ele...  \n",
       "6      89 global ratings  https://www.amazon.sg/Apple-20W-USB-C-Power-Ad...  \n",
       "7      89 global ratings  https://www.amazon.sg/Apple-20W-USB-C-Power-Ad...  \n",
       "8     109 global ratings  https://www.amazon.sg/Apple-MQD83-AirPods-Pro-...  "
      ]
     },
     "execution_count": 47,
     "metadata": {},
     "output_type": "execute_result"
    }
   ],
   "source": [
    "df"
   ]
  },
  {
   "cell_type": "code",
   "execution_count": null,
   "metadata": {},
   "outputs": [],
   "source": [
    "import re"
   ]
  },
  {
   "cell_type": "code",
   "execution_count": null,
   "metadata": {},
   "outputs": [],
   "source": [
    "url = 'https://www.amazon.sg/dp/B0869THJLD'"
   ]
  },
  {
   "cell_type": "code",
   "execution_count": null,
   "metadata": {},
   "outputs": [],
   "source": [
    "prop_content = r.get(url,headers=headers)\n",
    "data = html.fromstring(prop_content.content)"
   ]
  },
  {
   "cell_type": "code",
   "execution_count": null,
   "metadata": {},
   "outputs": [
    {
     "data": {
      "text/plain": [
       "'7 ratings'"
      ]
     },
     "execution_count": 43,
     "metadata": {},
     "output_type": "execute_result"
    }
   ],
   "source": [
    "data.xpath(\"//span[@id='acrCustomerReviewText']\")[0].text.strip()"
   ]
  },
  {
   "cell_type": "code",
   "execution_count": null,
   "metadata": {},
   "outputs": [
    {
     "data": {
      "text/plain": [
       "'3M'"
      ]
     },
     "execution_count": 44,
     "metadata": {},
     "output_type": "execute_result"
    }
   ],
   "source": [
    "data.xpath(\"//th[contains(text(),'Manufacturer')]/following-sibling::td\")[0].text.strip().replace('\\u200e', '')"
   ]
  },
  {
   "cell_type": "code",
   "execution_count": null,
   "metadata": {},
   "outputs": [
    {
     "data": {
      "text/plain": [
       "['https://www.amazon.sg/Cocoon-GRID-IT-Organizer-Case-Black/dp/B00479FQCM/ref=zg_bs_computers_sccl_1/355-9287108-9065922?psc=1',\n",
       " 'https://www.amazon.sg/Apple-Pencil-Tips-4-pack/dp/B01MCVAHNA/ref=zg_bs_computers_sccl_2/355-9287108-9065922?psc=1',\n",
       " 'https://www.amazon.sg/StarTech-com-5-25-Trayless-Hard-Drive/dp/B073JJ2FVR/ref=zg_bs_computers_sccl_3/355-9287108-9065922?psc=1',\n",
       " 'https://www.amazon.sg/Skooba-Accessory-Shoulder-Strap-995-400/dp/B002BUJJOK/ref=zg_bs_computers_sccl_4/355-9287108-9065922?psc=1',\n",
       " 'https://www.amazon.sg/ProCase-Carrying-Nintendo-Switch-Holders/dp/B06XFVTHQ4/ref=zg_bs_computers_sccl_5/355-9287108-9065922?psc=1']"
      ]
     },
     "execution_count": 23,
     "metadata": {},
     "output_type": "execute_result"
    }
   ],
   "source": [
    "pro_links[:5]"
   ]
  },
  {
   "cell_type": "code",
   "execution_count": null,
   "metadata": {},
   "outputs": [],
   "source": [
    "re.match(\"http[s]?://www.amazon.sg(\\w+)(.*)/(dp)/(?P<asin>\\w+).*\", pro_links[1], flags=re.IGNORECASE)"
   ]
  },
  {
   "cell_type": "code",
   "execution_count": null,
   "metadata": {},
   "outputs": [],
   "source": [
    "asin = re.search(r'/[dg]p/([^/]+)', pro_links[1], flags=re.IGNORECASE)\n",
    "if asin:\n",
    "  print(asin.group(1))"
   ]
  },
  {
   "cell_type": "code",
   "execution_count": null,
   "metadata": {},
   "outputs": [
    {
     "name": "stdout",
     "output_type": "stream",
     "text": [
      "B01MCVAHNA\n"
     ]
    }
   ],
   "source": [
    "\n"
   ]
  },
  {
   "cell_type": "code",
   "execution_count": null,
   "metadata": {},
   "outputs": [],
   "source": [
    "pro_links1 = [pro.get_attribute(\"href\") for pro in driver.find_elements(By.XPATH,\"//div[@class='zg-grid-general-faceout']/div/a[1]\")]"
   ]
  },
  {
   "cell_type": "code",
   "execution_count": null,
   "metadata": {},
   "outputs": [
    {
     "data": {
      "text/plain": [
       "[]"
      ]
     },
     "execution_count": 14,
     "metadata": {},
     "output_type": "execute_result"
    }
   ],
   "source": [
    "pro_links1"
   ]
  },
  {
   "cell_type": "code",
   "execution_count": null,
   "metadata": {},
   "outputs": [
    {
     "data": {
      "text/plain": [
       "[]"
      ]
     },
     "execution_count": 6,
     "metadata": {},
     "output_type": "execute_result"
    }
   ],
   "source": [
    "pro_links1"
   ]
  },
  {
   "cell_type": "code",
   "execution_count": null,
   "metadata": {},
   "outputs": [
    {
     "ename": "IndexError",
     "evalue": "list index out of range",
     "output_type": "error",
     "traceback": [
      "\u001b[1;31m---------------------------------------------------------------------------\u001b[0m",
      "\u001b[1;31mIndexError\u001b[0m                                Traceback (most recent call last)",
      "\u001b[1;32mc:\\Users\\Nitesh Kumar\\Desktop\\p01\\Amazon\\test.ipynb Cell 6\u001b[0m in \u001b[0;36m<cell line: 1>\u001b[1;34m()\u001b[0m\n\u001b[1;32m----> <a href='vscode-notebook-cell:/c%3A/Users/Nitesh%20Kumar/Desktop/p01/Amazon/test.ipynb#W4sZmlsZQ%3D%3D?line=0'>1</a>\u001b[0m pro_links1[\u001b[39m2\u001b[39;49m]\n",
      "\u001b[1;31mIndexError\u001b[0m: list index out of range"
     ]
    }
   ],
   "source": [
    "pro_links1[2]"
   ]
  },
  {
   "cell_type": "code",
   "execution_count": null,
   "metadata": {},
   "outputs": [],
   "source": [
    "prop_content = r.get(\"https://www.amazon.sg/A282H-3397008634-Original-Equipment-Replacement/dp/B0042ETBEQ/ref=zg_bs_automotive_sccl_1/357-9950803-4534143?th=1\",headers=headers)"
   ]
  },
  {
   "cell_type": "code",
   "execution_count": null,
   "metadata": {},
   "outputs": [],
   "source": [
    "datay = html.fromstring(prop_content.content)"
   ]
  },
  {
   "cell_type": "code",
   "execution_count": null,
   "metadata": {},
   "outputs": [],
   "source": [
    "data = ''"
   ]
  },
  {
   "cell_type": "code",
   "execution_count": null,
   "metadata": {},
   "outputs": [
    {
     "data": {
      "text/plain": [
       "'BOSCH Rear Wiper Blade A282H/3397008634 Original Equipment Replacement- 11\" (Pack of 1)'"
      ]
     },
     "execution_count": 96,
     "metadata": {},
     "output_type": "execute_result"
    }
   ],
   "source": [
    "datax.xpath(\"//span[@id='productTitle']\")[0].text.strip()"
   ]
  },
  {
   "cell_type": "code",
   "execution_count": null,
   "metadata": {},
   "outputs": [
    {
     "data": {
      "text/plain": [
       "'S$15.13'"
      ]
     },
     "execution_count": 97,
     "metadata": {},
     "output_type": "execute_result"
    }
   ],
   "source": [
    "datax.xpath(\"//div[@class='a-section a-spacing-none aok-align-center']/span/span\")[0].text"
   ]
  },
  {
   "cell_type": "code",
   "execution_count": null,
   "metadata": {},
   "outputs": [
    {
     "data": {
      "text/plain": [
       "'in Automotive'"
      ]
     },
     "execution_count": 98,
     "metadata": {},
     "output_type": "execute_result"
    }
   ],
   "source": [
    "datax.xpath(\"//span[@class='cat-link']\")[0].text"
   ]
  },
  {
   "cell_type": "code",
   "execution_count": null,
   "metadata": {},
   "outputs": [
    {
     "data": {
      "text/plain": [
       "['Amazon Japan']"
      ]
     },
     "execution_count": 102,
     "metadata": {},
     "output_type": "execute_result"
    }
   ],
   "source": [
    "datay.xpath(\"//div[@id='merchant-info']/a/span/text()\")"
   ]
  },
  {
   "cell_type": "code",
   "execution_count": null,
   "metadata": {},
   "outputs": [],
   "source": [
    "//div[@id='merchant-info']/text()"
   ]
  },
  {
   "cell_type": "code",
   "execution_count": null,
   "metadata": {},
   "outputs": [
    {
     "data": {
      "text/plain": [
       "'4.7 out of 5 stars'"
      ]
     },
     "execution_count": 90,
     "metadata": {},
     "output_type": "execute_result"
    }
   ],
   "source": [
    "datax.xpath(\"//i[@class='a-icon a-icon-star a-star-4-5']/span\")[0].text"
   ]
  },
  {
   "cell_type": "code",
   "execution_count": null,
   "metadata": {},
   "outputs": [
    {
     "data": {
      "text/plain": [
       "'191 global ratings'"
      ]
     },
     "execution_count": 91,
     "metadata": {},
     "output_type": "execute_result"
    }
   ],
   "source": [
    "datax.xpath(\"//div[@data-hook='total-review-count']/span/text()\")[0].strip()"
   ]
  },
  {
   "cell_type": "code",
   "execution_count": null,
   "metadata": {},
   "outputs": [
    {
     "data": {
      "text/plain": [
       "'191 ratings'"
      ]
     },
     "execution_count": 92,
     "metadata": {},
     "output_type": "execute_result"
    }
   ],
   "source": [
    "datax.xpath(\"//span[@id='acrCustomerReviewText']\")[0].text.strip()"
   ]
  }
 ],
 "metadata": {
  "kernelspec": {
   "display_name": "Python 3",
   "language": "python",
   "name": "python3"
  },
  "language_info": {
   "codemirror_mode": {
    "name": "ipython",
    "version": 3
   },
   "file_extension": ".py",
   "mimetype": "text/x-python",
   "name": "python",
   "nbconvert_exporter": "python",
   "pygments_lexer": "ipython3",
   "version": "3.10.0"
  },
  "orig_nbformat": 4,
  "vscode": {
   "interpreter": {
    "hash": "03bb167a03bba09ea99b5fd463499996a0f3a3e5d26b6a00281fc2a314711845"
   }
  }
 },
 "nbformat": 4,
 "nbformat_minor": 2
}
