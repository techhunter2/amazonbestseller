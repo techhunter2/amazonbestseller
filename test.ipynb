{
 "cells": [
  {
   "cell_type": "code",
   "execution_count": 1,
   "metadata": {},
   "outputs": [
    {
     "name": "stdout",
     "output_type": "stream",
     "text": [
      "-----This is demo exe this will scrap only one product from each category----\n",
      "----------- Scrapping Started -----------\n"
     ]
    }
   ],
   "source": [
    "from selenium import webdriver\n",
    "from selenium.webdriver.chrome.options import Options\n",
    "from selenium.webdriver.common.by import By\n",
    "Options = webdriver.ChromeOptions()\n",
    "Options.add_experimental_option('excludeSwitches', ['enable-logging'])\n",
    "driver = webdriver.Chrome(options=Options)\n",
    "import requests as r\n",
    "from lxml import html\n",
    "import pandas as pd\n",
    "import csv\n",
    "from datetime import date\n",
    "import time\n",
    "print(\"-----This is demo exe this will scrap only one product from each category----\")\n",
    "headers = {\n",
    "    'User-Agent': 'Mozilla/5.0 (Windows NT 10.0; Win64; x64) AppleWebKit/537.36 (KHTML, like Gecko) Chrome/105.0.0.0 Safari/537.36',\n",
    "  }\n",
    "all_data = []\n",
    "print(\"----------- Scrapping Started -----------\")\n",
    "driver.get(\"https://www.amazon.sg/gp/bestsellers\")"
   ]
  },
  {
   "cell_type": "code",
   "execution_count": 2,
   "metadata": {},
   "outputs": [],
   "source": [
    "categories = [li.get_attribute(\"href\") for li in driver.find_elements(By.XPATH,\"//div[@class='_p13n-zg-nav-tree-all_style_zg-browse-group__88fbz']/div/a\")]"
   ]
  },
  {
   "cell_type": "code",
   "execution_count": 3,
   "metadata": {},
   "outputs": [
    {
     "data": {
      "text/plain": [
       "24"
      ]
     },
     "execution_count": 3,
     "metadata": {},
     "output_type": "execute_result"
    }
   ],
   "source": [
    "len(categories)"
   ]
  },
  {
   "cell_type": "code",
   "execution_count": 4,
   "metadata": {},
   "outputs": [],
   "source": [
    "import re"
   ]
  },
  {
   "cell_type": "code",
   "execution_count": 22,
   "metadata": {},
   "outputs": [
    {
     "name": "stdout",
     "output_type": "stream",
     "text": [
      "kitchen\n"
     ]
    }
   ],
   "source": [
    "catg = re.search(r'/bestsellers/([^/]+)', categories[13], flags=re.IGNORECASE)\n",
    "if catg:\n",
    "  print(catg.group(1))"
   ]
  },
  {
   "cell_type": "code",
   "execution_count": 45,
   "metadata": {},
   "outputs": [
    {
     "data": {
      "text/plain": [
       "['https://www.amazon.sg/Apple-20W-USB-C-Power-Adapter/dp/B08L85KDV5/ref=zg_bs_electronics_sccl_1/355-9287108-9065922?psc=1',\n",
       " 'https://www.amazon.sg/Apple-MQD83-AirPods-Pro-2nd-generation/dp/B0BDKGNMDJ/ref=zg_bs_electronics_sccl_2/355-9287108-9065922?psc=1',\n",
       " 'https://www.amazon.sg/LENCENT-Universal-International-Charging-Countries/dp/B07W4GJLGY/ref=zg_bs_electronics_sccl_3/355-9287108-9065922?psc=1',\n",
       " 'https://www.amazon.sg/Spigen-Tempered-Screen-Protector-iPhone/dp/B0B23LW7NV/ref=zg_bs_electronics_sccl_4/355-9287108-9065922?psc=1',\n",
       " 'https://www.amazon.sg/Spigen-Tempered-Screen-Protector-iPhone/dp/B095RTJH1M/ref=zg_bs_electronics_sccl_5/355-9287108-9065922?psc=1',\n",
       " 'https://www.amazon.sg/Western-Digital-12TB-Internal-Drive/dp/B08V1L1WYD/ref=zg_bs_electronics_sccl_6/355-9287108-9065922?psc=1',\n",
       " 'https://www.amazon.sg/Electronics-Heatsink-Internal-Compatible-MZ-V8P2T0CW/dp/B09JHKSNNG/ref=zg_bs_electronics_sccl_7/355-9287108-9065922?psc=1',\n",
       " 'https://www.amazon.sg/LENCENT-Extension-Electrical-Universal-Individually/dp/B09KNRM6TL/ref=zg_bs_electronics_sccl_8/355-9287108-9065922?psc=1',\n",
       " 'https://www.amazon.sg/Spigen-Tempered-Screen-Protector-iPhone/dp/B0B244R4KB/ref=zg_bs_electronics_sccl_9/355-9287108-9065922?psc=1',\n",
       " 'https://www.amazon.sg/UGREEN-Charger-Supports-Compatible-Matebook/dp/B091N7FVDL/ref=zg_bs_electronics_sccl_10/355-9287108-9065922?psc=1',\n",
       " 'https://www.amazon.sg/TONEOF-Smartphone-Integrated-Lightweight-Extendable/dp/B09QM6CXHB/ref=zg_bs_electronics_sccl_11/355-9287108-9065922?psc=1',\n",
       " 'https://www.amazon.sg/LENCENT-Extension-Electrical-Universal-Individually/dp/B09XMTLC9L/ref=zg_bs_electronics_sccl_12/355-9287108-9065922?psc=1',\n",
       " 'https://www.amazon.sg/SanDisk-Extreme-microSDXC-Memory-SDSQXA1/dp/B07FCMKK5X/ref=zg_bs_electronics_sccl_13/355-9287108-9065922?psc=1',\n",
       " 'https://www.amazon.sg/Extension-Individual-Elektro-Multi-Sockets-Black/dp/B097XSF765/ref=zg_bs_electronics_sccl_14/355-9287108-9065922?psc=1',\n",
       " 'https://www.amazon.sg/RPMAX-Portable-26800mAh-Capacity-Compatible/dp/B089GZJFYD/ref=zg_bs_electronics_sccl_15/355-9287108-9065922?psc=1',\n",
       " 'https://www.amazon.sg/Security-Camera-Crystal-Clear-TPLink/dp/B095CLQ1PT/ref=zg_bs_electronics_sccl_16/355-9287108-9065922?psc=1',\n",
       " 'https://www.amazon.sg/INCHOR-Organizer-Holder-Management-Organizers/dp/B087TH1R6T/ref=zg_bs_electronics_sccl_17/355-9287108-9065922?psc=1',\n",
       " 'https://www.amazon.sg/SAMSUNG-MB-MC128KA-MicroSD-Adapter-128GB/dp/B09FFF18BQ/ref=zg_bs_electronics_sccl_18/355-9287108-9065922?psc=1',\n",
       " 'https://www.amazon.sg/Extension-NTONPOWER-Protector-Mountable-Protection/dp/B08JHQ262Q/ref=zg_bs_electronics_sccl_19/355-9287108-9065922?psc=1',\n",
       " 'https://www.amazon.sg/Marchpower-iPhone-Charger-Cord-USB/dp/B07VPVGQCJ/ref=zg_bs_electronics_sccl_20/355-9287108-9065922?psc=1',\n",
       " 'https://www.amazon.sg/NTONPOWER-Protector-Extension-Protection-Individual/dp/B09J8PJ8QY/ref=zg_bs_electronics_sccl_21/355-9287108-9065922?psc=1',\n",
       " 'https://www.amazon.sg/Spigen-Tempered-Glass-Screen-Protector/dp/B08HV54BF5/ref=zg_bs_electronics_sccl_22/355-9287108-9065922?psc=1',\n",
       " 'https://www.amazon.sg/Apple-iPhone-14-Pro-256/dp/B0BDJPQ53M/ref=zg_bs_electronics_sccl_23/355-9287108-9065922?psc=1',\n",
       " 'https://www.amazon.sg/Apple-Lightning-3-5mm-Headphone-Adapter/dp/B01N1SMA94/ref=zg_bs_electronics_sccl_24/355-9287108-9065922?psc=1',\n",
       " 'https://www.amazon.sg/SanDisk-256GB-Ultra-microSDXC-Adapter/dp/B0B7NV73PJ/ref=zg_bs_electronics_sccl_25/355-9287108-9065922?psc=1',\n",
       " 'https://www.amazon.sg/UGREEN-Adapter-Adaptor-Converter-Compatible/dp/B079K773M7/ref=zg_bs_electronics_sccl_26/355-9287108-9065922?psc=1',\n",
       " 'https://www.amazon.sg/Fujifilm-INSTAX-Instant-Twin-Pack/dp/B00EB4ADQW/ref=zg_bs_electronics_sccl_27/355-9287108-9065922?psc=1',\n",
       " 'https://www.amazon.sg/CORSAIR-CMK32GX4M2E3200C16-Vengeance-PC4-25600-Computer/dp/B07RW6Z692/ref=zg_bs_electronics_sccl_28/355-9287108-9065922?psc=1',\n",
       " 'https://www.amazon.sg/Sony-WH-1000XM5-Wireless-Noise-Cancelling-Headphones/dp/B09ZFD9CBB/ref=zg_bs_electronics_sccl_29/355-9287108-9065922?psc=1',\n",
       " 'https://www.amazon.sg/Apple-iPhone-Pro-Max-256/dp/B0BDJ2S7WG/ref=zg_bs_electronics_sccl_30/355-9287108-9065922?psc=1',\n",
       " 'https://www.amazon.sg/LENCENT-Extension-Outlets-Charging-Station/dp/B08LKMTJCD/ref=zg_bs_electronics_sccl_31/355-9287108-9065922?psc=1',\n",
       " 'https://www.amazon.sg/POWERPAC-HL7-Multi-Adapter-color/dp/B07M9KD9M8/ref=zg_bs_electronics_sccl_32/355-9287108-9065922?psc=1',\n",
       " 'https://www.amazon.sg/GoPro-Shorty-Extension-Tripod-AFTTM-001/dp/B0755G21GJ/ref=zg_bs_electronics_sccl_33/355-9287108-9065922?psc=1',\n",
       " 'https://www.amazon.sg/Corsair-CMK32GX4M2D3600C18-Vengeance-3600MHz-Memory/dp/B07ZPLM1R1/ref=zg_bs_electronics_sccl_34/355-9287108-9065922?psc=1',\n",
       " 'https://www.amazon.sg/Aluminium-Foldable-Portable-Adjustable-Notebook/dp/B09FJP2FJ8/ref=zg_bs_electronics_sccl_35/355-9287108-9065922?psc=1',\n",
       " 'https://www.amazon.sg/SAMSUNG-microSDXC-Smartphones-MB-MD512KB-AM/dp/B09B1FN5S3/ref=zg_bs_electronics_sccl_36/355-9287108-9065922?psc=1',\n",
       " 'https://www.amazon.sg/Smartphone-INS-MINI-EVO-BLACK/dp/B09L43L5D5/ref=zg_bs_electronics_sccl_37/355-9287108-9065922?psc=1',\n",
       " 'https://www.amazon.sg/UGREEN-Docking-Station-Ethernet-Delivery/dp/B093FKT9BF/ref=zg_bs_electronics_sccl_38/355-9287108-9065922?psc=1',\n",
       " 'https://www.amazon.sg/Lightning-Cable-MFi-Certified-Compatible/dp/B07Z5NLHNV/ref=zg_bs_electronics_sccl_39/355-9287108-9065922?psc=1',\n",
       " 'https://www.amazon.sg/Acer-K243Y-23-8-Inch-Monitor-Response/dp/B09GBLVD3G/ref=zg_bs_electronics_sccl_40/355-9287108-9065922?psc=1',\n",
       " 'https://www.amazon.sg/SAMSUNG-Android-Lasting-Battery-Expandable/dp/B09N41RC6L/ref=zg_bs_electronics_sccl_41/355-9287108-9065922?psc=1',\n",
       " 'https://www.amazon.sg/Sony-WF-1000XM4-Canceling-Wireless-Headphones/dp/B094C4VDJZ/ref=zg_bs_electronics_sccl_42/355-9287108-9065922?psc=1',\n",
       " 'https://www.amazon.sg/NTONPOWER-Extension-Protector-Individual-Overload/dp/B09SP1C9BY/ref=zg_bs_electronics_sccl_43/355-9287108-9065922?psc=1',\n",
       " 'https://www.amazon.sg/Fujifilm-16386016-Instax-Mini-Packaging/dp/B0000C73CQ/ref=zg_bs_electronics_sccl_44/355-9287108-9065922?psc=1',\n",
       " 'https://www.amazon.sg/UGREEN-Charger-Adapter-Compatible-Macbook/dp/B08CDDSVN4/ref=zg_bs_electronics_sccl_45/355-9287108-9065922?psc=1',\n",
       " 'https://www.amazon.sg/JETech-Magnetic-Compatible-Shockproof-Anti-Scratch/dp/B0B8WXSX2R/ref=zg_bs_electronics_sccl_46/355-9287108-9065922?psc=1',\n",
       " 'https://www.amazon.sg/SanDisk-SDSSDE61-1T00-G25-Extreme-Portable-Solid/dp/B08GTYFC37/ref=zg_bs_electronics_sccl_47/355-9287108-9065922?psc=1',\n",
       " 'https://www.amazon.sg/Philips-DLP6715NW-69-POWER-2-8x9-6x17cm/dp/B09GS9724F/ref=zg_bs_electronics_sccl_48/355-9287108-9065922?psc=1',\n",
       " 'https://www.amazon.sg/JETech-Protector-6-1-Inch-6-7-Inch-Anti-Scratch/dp/B0B8SKVTN4/ref=zg_bs_electronics_sccl_49/355-9287108-9065922?psc=1',\n",
       " 'https://www.amazon.sg/Beelink-Computer-Support-Output-Type-C/dp/B0B48V8K28/ref=zg_bs_electronics_sccl_50/355-9287108-9065922?psc=1',\n",
       " 'https://www.amazon.sg/SanDisk-128GB-Extreme-UHS-I-Memory/dp/B09X7FXHVJ/ref=zg_bs_electronics_sccl_1/355-9287108-9065922?psc=1',\n",
       " 'https://www.amazon.sg/Sabrent-Individual-Switches-Portable-HB-UM43/dp/B00JX1ZS5O/ref=zg_bs_electronics_sccl_2/355-9287108-9065922?psc=1',\n",
       " 'https://www.amazon.sg/Apple-MU8F2ZA-A-Pencil-Generation/dp/B07KTHN7F4/ref=zg_bs_electronics_sccl_3/355-9287108-9065922?psc=1',\n",
       " 'https://www.amazon.sg/Samsung-SmartTag-Bluetooth-Tracker-EI-T5300KMEGWW/dp/B09D8QFYPJ/ref=zg_bs_electronics_sccl_4/355-9287108-9065922?psc=1',\n",
       " 'https://www.amazon.sg/UGREEN-Optical-Digital-Toslink-Playstation/dp/B088CQGFQ4/ref=zg_bs_electronics_sccl_5/355-9287108-9065922?psc=1',\n",
       " 'https://www.amazon.sg/JOTO-Management-Organizer-Computer-Entertainment/dp/B015HWXG4M/ref=zg_bs_electronics_sccl_6/355-9287108-9065922?psc=1',\n",
       " 'https://www.amazon.sg/Apple-USB-C-to-USB-Adapter/dp/B00VU2OID2/ref=zg_bs_electronics_sccl_7/355-9287108-9065922?psc=1',\n",
       " 'https://www.amazon.sg/UGREEN-Braided-Charging-Compatible-Controller/dp/B07PSHWSYB/ref=zg_bs_electronics_sccl_8/355-9287108-9065922?psc=1',\n",
       " 'https://www.amazon.sg/eneloop-BK-3HCCA4BA-Rechargable-Battery-Black/dp/B00JHKSL28/ref=zg_bs_electronics_sccl_9/355-9287108-9065922?psc=1',\n",
       " 'https://www.amazon.sg/LENCENT-Extension-Household-Appliances-Smartphone/dp/B09MQ2GYBW/ref=zg_bs_electronics_sccl_10/355-9287108-9065922?psc=1',\n",
       " 'https://www.amazon.sg/Toshiba-CR2450-PW-BP-5-Lithium-Battery-Pieces/dp/B07DN1F2QF/ref=zg_bs_electronics_sccl_11/355-9287108-9065922?psc=1',\n",
       " 'https://www.amazon.sg/Xiaomi-Degree-Rotation-Security-2304x1296/dp/B08P5G51GN/ref=zg_bs_electronics_sccl_12/355-9287108-9065922?psc=1',\n",
       " 'https://www.amazon.sg/Sony-WF-1000XM4-Wireless-Cancelling-Headphones/dp/B096LYGPDB/ref=zg_bs_electronics_sccl_13/355-9287108-9065922?psc=1',\n",
       " 'https://www.amazon.sg/DisplayPort-Adapter-CableCreation-Uni-Directional-Display/dp/B01M1KJ7UP/ref=zg_bs_electronics_sccl_14/355-9287108-9065922?psc=1',\n",
       " 'https://www.amazon.sg/Apple-MJWY3ZA-A-MagSafe-Battery/dp/B099CFN4C5/ref=zg_bs_electronics_sccl_15/355-9287108-9065922?psc=1',\n",
       " 'https://www.amazon.sg/Apple-iPhone-Pro-Max-256/dp/B0BDHX6NQK/ref=zg_bs_electronics_sccl_16/355-9287108-9065922?psc=1',\n",
       " 'https://www.amazon.sg/UBeesize-Tripod-Aluminum-Lightweight-Compatible/dp/B08HHYS7PH/ref=zg_bs_electronics_sccl_17/355-9287108-9065922?psc=1',\n",
       " 'https://www.amazon.sg/UGREEN-Delivery-Charging-Matebook-Chromebook/dp/B099K9PS7W/ref=zg_bs_electronics_sccl_18/355-9287108-9065922?psc=1',\n",
       " 'https://www.amazon.sg/DJI-Action-Remote-Control-Extension/dp/B09HKGFRH4/ref=zg_bs_electronics_sccl_19/355-9287108-9065922?psc=1',\n",
       " 'https://www.amazon.sg/Kingston-2280-Internal-SNV2S-2000G/dp/B0BDTC589G/ref=zg_bs_electronics_sccl_20/355-9287108-9065922?psc=1',\n",
       " 'https://www.amazon.sg/UGREEN-Charger-Adapter-Supports-Compatible/dp/B07S7NQYFS/ref=zg_bs_electronics_sccl_21/355-9287108-9065922?psc=1',\n",
       " 'https://www.amazon.sg/Multiple-LENCENT-Worldwide-Australia-International/dp/B077VFGNYZ/ref=zg_bs_electronics_sccl_22/355-9287108-9065922?psc=1',\n",
       " 'https://www.amazon.sg/Xiaomi-TEJ4018GL-Portable-Photo-Printer/dp/B08BT1K9GR/ref=zg_bs_electronics_sccl_23/355-9287108-9065922?psc=1',\n",
       " 'https://www.amazon.sg/Stylus-Active-Rejection-Compatible-2018-2022/dp/B0BC14YWDH/ref=zg_bs_electronics_sccl_24/355-9287108-9065922?psc=1',\n",
       " 'https://www.amazon.sg/Spigen-Compatible-Samsung-Galaxy-Rugged/dp/B08LMNTZ51/ref=zg_bs_electronics_sccl_25/355-9287108-9065922?psc=1',\n",
       " 'https://www.amazon.sg/Spigen-Designed-Apple-Watch-Ultra/dp/B0BBKGB11N/ref=zg_bs_electronics_sccl_26/355-9287108-9065922?psc=1',\n",
       " 'https://www.amazon.sg/Spigen-Compatible-iPhone-Ultra-Hybrid/dp/B08NFB6Q8P/ref=zg_bs_electronics_sccl_27/355-9287108-9065922?psc=1',\n",
       " 'https://www.amazon.sg/UGREEN-Adapter-MacBook-Chromebook-Aluminum/dp/B07RV1ZCWJ/ref=zg_bs_electronics_sccl_28/355-9287108-9065922?psc=1',\n",
       " 'https://www.amazon.sg/SanDisk-Extreme-microSDXC-Memory-Adapter/dp/B09X7MPX8L/ref=zg_bs_electronics_sccl_29/355-9287108-9065922?psc=1',\n",
       " 'https://www.amazon.sg/Logitech-MX-Master-Advanced-Wireless/dp/B07YXNDK6X/ref=zg_bs_electronics_sccl_30/355-9287108-9065922?psc=1']"
      ]
     },
     "execution_count": 45,
     "metadata": {},
     "output_type": "execute_result"
    }
   ],
   "source": [
    "pro_links"
   ]
  },
  {
   "cell_type": "code",
   "execution_count": 4,
   "metadata": {},
   "outputs": [],
   "source": [
    "driver.get(categories[1])\n",
    "driver.implicitly_wait(5)\n",
    "element = driver.find_element(By.XPATH,\"//a[contains(text(),'Next page')]\")\n",
    "driver.execute_script(\"arguments[0].scrollIntoView();\", element)\n",
    "time.sleep(2)\n",
    "pro_links1 = [pro.get_attribute(\"href\") for pro in driver.find_elements(By.XPATH,\".//div[@class='zg-grid-general-faceout']/div/a[1]\")]\n"
   ]
  },
  {
   "cell_type": "code",
   "execution_count": 6,
   "metadata": {},
   "outputs": [],
   "source": [
    "height = driver.execute_script(\"return document.body.scrollHeight\")\n",
    "element.click()\n",
    "driver.implicitly_wait(5)\n",
    "element1= driver.find_element(By.XPATH,\"//a[contains(text(),'2')]\")\n",
    "for scrol in range(100,height,150):\n",
    "    driver.execute_script(f\"window.scrollTo(0,{scrol})\")\n",
    "    time.sleep(0.3)\n",
    "driver.execute_script(\"window.scrollTo(0, document.body.scrollHeight);\")\n",
    "time.sleep(5)\n",
    "try:\n",
    "    driver.execute_script(\"arguments[0].scrollIntoView();\", element1)\n",
    "except:\n",
    "    pass\n",
    "pro_links = pro_links1 + [pro.get_attribute(\"href\") for pro in driver.find_elements(By.XPATH,\".//div[@class='zg-grid-general-faceout']/div/a[1]\")]\n"
   ]
  },
  {
   "cell_type": "code",
   "execution_count": 5,
   "metadata": {},
   "outputs": [
    {
     "data": {
      "text/plain": [
       "50"
      ]
     },
     "execution_count": 5,
     "metadata": {},
     "output_type": "execute_result"
    }
   ],
   "source": [
    "len(pro_links1)"
   ]
  },
  {
   "cell_type": "code",
   "execution_count": 1,
   "metadata": {},
   "outputs": [],
   "source": [
    "li ='https://www.amazon.sg/Meguiar-G7164-Class-Shampoo-Conditioner/dp/B0009IQXFO/ref=zg_bs_automotive_sccl_1/356-7612797-1452314?psc=1'"
   ]
  },
  {
   "cell_type": "code",
   "execution_count": 3,
   "metadata": {},
   "outputs": [],
   "source": [
    "import requests as r\n",
    "from lxml import html"
   ]
  },
  {
   "cell_type": "code",
   "execution_count": 5,
   "metadata": {},
   "outputs": [],
   "source": [
    "headers = {\n",
    "    'User-Agent': 'Mozilla/5.0 (Windows NT 10.0; Win64; x64) AppleWebKit/537.36 (KHTML, like Gecko) Chrome/105.0.0.0 Safari/537.36',\n",
    "  }"
   ]
  },
  {
   "cell_type": "code",
   "execution_count": 7,
   "metadata": {},
   "outputs": [
    {
     "ename": "ConnectionError",
     "evalue": "HTTPSConnectionPool(host='www.amazon.sg', port=443): Max retries exceeded with url: /Meguiar-G7164-Class-Shampoo-Conditioner/dp/B0009IQXFO/ref=zg_bs_automotive_sccl_1/356-7612797-1452314?psc=1 (Caused by NewConnectionError('<urllib3.connection.HTTPSConnection object at 0x000002B9EE867310>: Failed to establish a new connection: [Errno 11001] getaddrinfo failed'))",
     "output_type": "error",
     "traceback": [
      "\u001b[1;31m---------------------------------------------------------------------------\u001b[0m",
      "\u001b[1;31mgaierror\u001b[0m                                  Traceback (most recent call last)",
      "File \u001b[1;32mc:\\Users\\Nitesh Kumar\\Python310\\lib\\site-packages\\urllib3\\connection.py:174\u001b[0m, in \u001b[0;36mHTTPConnection._new_conn\u001b[1;34m(self)\u001b[0m\n\u001b[0;32m    173\u001b[0m \u001b[39mtry\u001b[39;00m:\n\u001b[1;32m--> 174\u001b[0m     conn \u001b[39m=\u001b[39m connection\u001b[39m.\u001b[39mcreate_connection(\n\u001b[0;32m    175\u001b[0m         (\u001b[39mself\u001b[39m\u001b[39m.\u001b[39m_dns_host, \u001b[39mself\u001b[39m\u001b[39m.\u001b[39mport), \u001b[39mself\u001b[39m\u001b[39m.\u001b[39mtimeout, \u001b[39m*\u001b[39m\u001b[39m*\u001b[39mextra_kw\n\u001b[0;32m    176\u001b[0m     )\n\u001b[0;32m    178\u001b[0m \u001b[39mexcept\u001b[39;00m SocketTimeout:\n",
      "File \u001b[1;32mc:\\Users\\Nitesh Kumar\\Python310\\lib\\site-packages\\urllib3\\util\\connection.py:72\u001b[0m, in \u001b[0;36mcreate_connection\u001b[1;34m(address, timeout, source_address, socket_options)\u001b[0m\n\u001b[0;32m     68\u001b[0m     \u001b[39mreturn\u001b[39;00m six\u001b[39m.\u001b[39mraise_from(\n\u001b[0;32m     69\u001b[0m         LocationParseError(\u001b[39mu\u001b[39m\u001b[39m\"\u001b[39m\u001b[39m'\u001b[39m\u001b[39m%s\u001b[39;00m\u001b[39m'\u001b[39m\u001b[39m, label empty or too long\u001b[39m\u001b[39m\"\u001b[39m \u001b[39m%\u001b[39m host), \u001b[39mNone\u001b[39;00m\n\u001b[0;32m     70\u001b[0m     )\n\u001b[1;32m---> 72\u001b[0m \u001b[39mfor\u001b[39;00m res \u001b[39min\u001b[39;00m socket\u001b[39m.\u001b[39;49mgetaddrinfo(host, port, family, socket\u001b[39m.\u001b[39;49mSOCK_STREAM):\n\u001b[0;32m     73\u001b[0m     af, socktype, proto, canonname, sa \u001b[39m=\u001b[39m res\n",
      "File \u001b[1;32mc:\\Users\\Nitesh Kumar\\Python310\\lib\\socket.py:955\u001b[0m, in \u001b[0;36mgetaddrinfo\u001b[1;34m(host, port, family, type, proto, flags)\u001b[0m\n\u001b[0;32m    954\u001b[0m addrlist \u001b[39m=\u001b[39m []\n\u001b[1;32m--> 955\u001b[0m \u001b[39mfor\u001b[39;00m res \u001b[39min\u001b[39;00m _socket\u001b[39m.\u001b[39;49mgetaddrinfo(host, port, family, \u001b[39mtype\u001b[39;49m, proto, flags):\n\u001b[0;32m    956\u001b[0m     af, socktype, proto, canonname, sa \u001b[39m=\u001b[39m res\n",
      "\u001b[1;31mgaierror\u001b[0m: [Errno 11001] getaddrinfo failed",
      "\nDuring handling of the above exception, another exception occurred:\n",
      "\u001b[1;31mNewConnectionError\u001b[0m                        Traceback (most recent call last)",
      "File \u001b[1;32mc:\\Users\\Nitesh Kumar\\Python310\\lib\\site-packages\\urllib3\\connectionpool.py:703\u001b[0m, in \u001b[0;36mHTTPConnectionPool.urlopen\u001b[1;34m(self, method, url, body, headers, retries, redirect, assert_same_host, timeout, pool_timeout, release_conn, chunked, body_pos, **response_kw)\u001b[0m\n\u001b[0;32m    702\u001b[0m \u001b[39m# Make the request on the httplib connection object.\u001b[39;00m\n\u001b[1;32m--> 703\u001b[0m httplib_response \u001b[39m=\u001b[39m \u001b[39mself\u001b[39;49m\u001b[39m.\u001b[39;49m_make_request(\n\u001b[0;32m    704\u001b[0m     conn,\n\u001b[0;32m    705\u001b[0m     method,\n\u001b[0;32m    706\u001b[0m     url,\n\u001b[0;32m    707\u001b[0m     timeout\u001b[39m=\u001b[39;49mtimeout_obj,\n\u001b[0;32m    708\u001b[0m     body\u001b[39m=\u001b[39;49mbody,\n\u001b[0;32m    709\u001b[0m     headers\u001b[39m=\u001b[39;49mheaders,\n\u001b[0;32m    710\u001b[0m     chunked\u001b[39m=\u001b[39;49mchunked,\n\u001b[0;32m    711\u001b[0m )\n\u001b[0;32m    713\u001b[0m \u001b[39m# If we're going to release the connection in ``finally:``, then\u001b[39;00m\n\u001b[0;32m    714\u001b[0m \u001b[39m# the response doesn't need to know about the connection. Otherwise\u001b[39;00m\n\u001b[0;32m    715\u001b[0m \u001b[39m# it will also try to release it and we'll have a double-release\u001b[39;00m\n\u001b[0;32m    716\u001b[0m \u001b[39m# mess.\u001b[39;00m\n",
      "File \u001b[1;32mc:\\Users\\Nitesh Kumar\\Python310\\lib\\site-packages\\urllib3\\connectionpool.py:386\u001b[0m, in \u001b[0;36mHTTPConnectionPool._make_request\u001b[1;34m(self, conn, method, url, timeout, chunked, **httplib_request_kw)\u001b[0m\n\u001b[0;32m    385\u001b[0m \u001b[39mtry\u001b[39;00m:\n\u001b[1;32m--> 386\u001b[0m     \u001b[39mself\u001b[39;49m\u001b[39m.\u001b[39;49m_validate_conn(conn)\n\u001b[0;32m    387\u001b[0m \u001b[39mexcept\u001b[39;00m (SocketTimeout, BaseSSLError) \u001b[39mas\u001b[39;00m e:\n\u001b[0;32m    388\u001b[0m     \u001b[39m# Py2 raises this as a BaseSSLError, Py3 raises it as socket timeout.\u001b[39;00m\n",
      "File \u001b[1;32mc:\\Users\\Nitesh Kumar\\Python310\\lib\\site-packages\\urllib3\\connectionpool.py:1042\u001b[0m, in \u001b[0;36mHTTPSConnectionPool._validate_conn\u001b[1;34m(self, conn)\u001b[0m\n\u001b[0;32m   1041\u001b[0m \u001b[39mif\u001b[39;00m \u001b[39mnot\u001b[39;00m \u001b[39mgetattr\u001b[39m(conn, \u001b[39m\"\u001b[39m\u001b[39msock\u001b[39m\u001b[39m\"\u001b[39m, \u001b[39mNone\u001b[39;00m):  \u001b[39m# AppEngine might not have  `.sock`\u001b[39;00m\n\u001b[1;32m-> 1042\u001b[0m     conn\u001b[39m.\u001b[39;49mconnect()\n\u001b[0;32m   1044\u001b[0m \u001b[39mif\u001b[39;00m \u001b[39mnot\u001b[39;00m conn\u001b[39m.\u001b[39mis_verified:\n",
      "File \u001b[1;32mc:\\Users\\Nitesh Kumar\\Python310\\lib\\site-packages\\urllib3\\connection.py:358\u001b[0m, in \u001b[0;36mHTTPSConnection.connect\u001b[1;34m(self)\u001b[0m\n\u001b[0;32m    356\u001b[0m \u001b[39mdef\u001b[39;00m \u001b[39mconnect\u001b[39m(\u001b[39mself\u001b[39m):\n\u001b[0;32m    357\u001b[0m     \u001b[39m# Add certificate verification\u001b[39;00m\n\u001b[1;32m--> 358\u001b[0m     \u001b[39mself\u001b[39m\u001b[39m.\u001b[39msock \u001b[39m=\u001b[39m conn \u001b[39m=\u001b[39m \u001b[39mself\u001b[39;49m\u001b[39m.\u001b[39;49m_new_conn()\n\u001b[0;32m    359\u001b[0m     hostname \u001b[39m=\u001b[39m \u001b[39mself\u001b[39m\u001b[39m.\u001b[39mhost\n",
      "File \u001b[1;32mc:\\Users\\Nitesh Kumar\\Python310\\lib\\site-packages\\urllib3\\connection.py:186\u001b[0m, in \u001b[0;36mHTTPConnection._new_conn\u001b[1;34m(self)\u001b[0m\n\u001b[0;32m    185\u001b[0m \u001b[39mexcept\u001b[39;00m SocketError \u001b[39mas\u001b[39;00m e:\n\u001b[1;32m--> 186\u001b[0m     \u001b[39mraise\u001b[39;00m NewConnectionError(\n\u001b[0;32m    187\u001b[0m         \u001b[39mself\u001b[39m, \u001b[39m\"\u001b[39m\u001b[39mFailed to establish a new connection: \u001b[39m\u001b[39m%s\u001b[39;00m\u001b[39m\"\u001b[39m \u001b[39m%\u001b[39m e\n\u001b[0;32m    188\u001b[0m     )\n\u001b[0;32m    190\u001b[0m \u001b[39mreturn\u001b[39;00m conn\n",
      "\u001b[1;31mNewConnectionError\u001b[0m: <urllib3.connection.HTTPSConnection object at 0x000002B9EE867310>: Failed to establish a new connection: [Errno 11001] getaddrinfo failed",
      "\nDuring handling of the above exception, another exception occurred:\n",
      "\u001b[1;31mMaxRetryError\u001b[0m                             Traceback (most recent call last)",
      "File \u001b[1;32mc:\\Users\\Nitesh Kumar\\Python310\\lib\\site-packages\\requests\\adapters.py:440\u001b[0m, in \u001b[0;36mHTTPAdapter.send\u001b[1;34m(self, request, stream, timeout, verify, cert, proxies)\u001b[0m\n\u001b[0;32m    439\u001b[0m \u001b[39mif\u001b[39;00m \u001b[39mnot\u001b[39;00m chunked:\n\u001b[1;32m--> 440\u001b[0m     resp \u001b[39m=\u001b[39m conn\u001b[39m.\u001b[39;49murlopen(\n\u001b[0;32m    441\u001b[0m         method\u001b[39m=\u001b[39;49mrequest\u001b[39m.\u001b[39;49mmethod,\n\u001b[0;32m    442\u001b[0m         url\u001b[39m=\u001b[39;49murl,\n\u001b[0;32m    443\u001b[0m         body\u001b[39m=\u001b[39;49mrequest\u001b[39m.\u001b[39;49mbody,\n\u001b[0;32m    444\u001b[0m         headers\u001b[39m=\u001b[39;49mrequest\u001b[39m.\u001b[39;49mheaders,\n\u001b[0;32m    445\u001b[0m         redirect\u001b[39m=\u001b[39;49m\u001b[39mFalse\u001b[39;49;00m,\n\u001b[0;32m    446\u001b[0m         assert_same_host\u001b[39m=\u001b[39;49m\u001b[39mFalse\u001b[39;49;00m,\n\u001b[0;32m    447\u001b[0m         preload_content\u001b[39m=\u001b[39;49m\u001b[39mFalse\u001b[39;49;00m,\n\u001b[0;32m    448\u001b[0m         decode_content\u001b[39m=\u001b[39;49m\u001b[39mFalse\u001b[39;49;00m,\n\u001b[0;32m    449\u001b[0m         retries\u001b[39m=\u001b[39;49m\u001b[39mself\u001b[39;49m\u001b[39m.\u001b[39;49mmax_retries,\n\u001b[0;32m    450\u001b[0m         timeout\u001b[39m=\u001b[39;49mtimeout\n\u001b[0;32m    451\u001b[0m     )\n\u001b[0;32m    453\u001b[0m \u001b[39m# Send the request.\u001b[39;00m\n\u001b[0;32m    454\u001b[0m \u001b[39melse\u001b[39;00m:\n",
      "File \u001b[1;32mc:\\Users\\Nitesh Kumar\\Python310\\lib\\site-packages\\urllib3\\connectionpool.py:787\u001b[0m, in \u001b[0;36mHTTPConnectionPool.urlopen\u001b[1;34m(self, method, url, body, headers, retries, redirect, assert_same_host, timeout, pool_timeout, release_conn, chunked, body_pos, **response_kw)\u001b[0m\n\u001b[0;32m    785\u001b[0m     e \u001b[39m=\u001b[39m ProtocolError(\u001b[39m\"\u001b[39m\u001b[39mConnection aborted.\u001b[39m\u001b[39m\"\u001b[39m, e)\n\u001b[1;32m--> 787\u001b[0m retries \u001b[39m=\u001b[39m retries\u001b[39m.\u001b[39;49mincrement(\n\u001b[0;32m    788\u001b[0m     method, url, error\u001b[39m=\u001b[39;49me, _pool\u001b[39m=\u001b[39;49m\u001b[39mself\u001b[39;49m, _stacktrace\u001b[39m=\u001b[39;49msys\u001b[39m.\u001b[39;49mexc_info()[\u001b[39m2\u001b[39;49m]\n\u001b[0;32m    789\u001b[0m )\n\u001b[0;32m    790\u001b[0m retries\u001b[39m.\u001b[39msleep()\n",
      "File \u001b[1;32mc:\\Users\\Nitesh Kumar\\Python310\\lib\\site-packages\\urllib3\\util\\retry.py:592\u001b[0m, in \u001b[0;36mRetry.increment\u001b[1;34m(self, method, url, response, error, _pool, _stacktrace)\u001b[0m\n\u001b[0;32m    591\u001b[0m \u001b[39mif\u001b[39;00m new_retry\u001b[39m.\u001b[39mis_exhausted():\n\u001b[1;32m--> 592\u001b[0m     \u001b[39mraise\u001b[39;00m MaxRetryError(_pool, url, error \u001b[39mor\u001b[39;00m ResponseError(cause))\n\u001b[0;32m    594\u001b[0m log\u001b[39m.\u001b[39mdebug(\u001b[39m\"\u001b[39m\u001b[39mIncremented Retry for (url=\u001b[39m\u001b[39m'\u001b[39m\u001b[39m%s\u001b[39;00m\u001b[39m'\u001b[39m\u001b[39m): \u001b[39m\u001b[39m%r\u001b[39;00m\u001b[39m\"\u001b[39m, url, new_retry)\n",
      "\u001b[1;31mMaxRetryError\u001b[0m: HTTPSConnectionPool(host='www.amazon.sg', port=443): Max retries exceeded with url: /Meguiar-G7164-Class-Shampoo-Conditioner/dp/B0009IQXFO/ref=zg_bs_automotive_sccl_1/356-7612797-1452314?psc=1 (Caused by NewConnectionError('<urllib3.connection.HTTPSConnection object at 0x000002B9EE867310>: Failed to establish a new connection: [Errno 11001] getaddrinfo failed'))",
      "\nDuring handling of the above exception, another exception occurred:\n",
      "\u001b[1;31mConnectionError\u001b[0m                           Traceback (most recent call last)",
      "\u001b[1;32mc:\\Users\\Nitesh Kumar\\Desktop\\p01\\Amazon\\test.ipynb Cell 11\u001b[0m in \u001b[0;36m<cell line: 1>\u001b[1;34m()\u001b[0m\n\u001b[1;32m----> <a href='vscode-notebook-cell:/c%3A/Users/Nitesh%20Kumar/Desktop/p01/Amazon/test.ipynb#X61sZmlsZQ%3D%3D?line=0'>1</a>\u001b[0m prop_content \u001b[39m=\u001b[39m r\u001b[39m.\u001b[39;49mget(li,headers\u001b[39m=\u001b[39;49mheaders)\n\u001b[0;32m      <a href='vscode-notebook-cell:/c%3A/Users/Nitesh%20Kumar/Desktop/p01/Amazon/test.ipynb#X61sZmlsZQ%3D%3D?line=1'>2</a>\u001b[0m data \u001b[39m=\u001b[39m html\u001b[39m.\u001b[39mfromstring(prop_content\u001b[39m.\u001b[39mcontent)\n",
      "File \u001b[1;32mc:\\Users\\Nitesh Kumar\\Python310\\lib\\site-packages\\requests\\api.py:75\u001b[0m, in \u001b[0;36mget\u001b[1;34m(url, params, **kwargs)\u001b[0m\n\u001b[0;32m     64\u001b[0m \u001b[39mdef\u001b[39;00m \u001b[39mget\u001b[39m(url, params\u001b[39m=\u001b[39m\u001b[39mNone\u001b[39;00m, \u001b[39m*\u001b[39m\u001b[39m*\u001b[39mkwargs):\n\u001b[0;32m     65\u001b[0m     \u001b[39mr\u001b[39m\u001b[39m\"\"\"Sends a GET request.\u001b[39;00m\n\u001b[0;32m     66\u001b[0m \n\u001b[0;32m     67\u001b[0m \u001b[39m    :param url: URL for the new :class:`Request` object.\u001b[39;00m\n\u001b[1;32m   (...)\u001b[0m\n\u001b[0;32m     72\u001b[0m \u001b[39m    :rtype: requests.Response\u001b[39;00m\n\u001b[0;32m     73\u001b[0m \u001b[39m    \"\"\"\u001b[39;00m\n\u001b[1;32m---> 75\u001b[0m     \u001b[39mreturn\u001b[39;00m request(\u001b[39m'\u001b[39m\u001b[39mget\u001b[39m\u001b[39m'\u001b[39m, url, params\u001b[39m=\u001b[39mparams, \u001b[39m*\u001b[39m\u001b[39m*\u001b[39mkwargs)\n",
      "File \u001b[1;32mc:\\Users\\Nitesh Kumar\\Python310\\lib\\site-packages\\requests\\api.py:61\u001b[0m, in \u001b[0;36mrequest\u001b[1;34m(method, url, **kwargs)\u001b[0m\n\u001b[0;32m     57\u001b[0m \u001b[39m# By using the 'with' statement we are sure the session is closed, thus we\u001b[39;00m\n\u001b[0;32m     58\u001b[0m \u001b[39m# avoid leaving sockets open which can trigger a ResourceWarning in some\u001b[39;00m\n\u001b[0;32m     59\u001b[0m \u001b[39m# cases, and look like a memory leak in others.\u001b[39;00m\n\u001b[0;32m     60\u001b[0m \u001b[39mwith\u001b[39;00m sessions\u001b[39m.\u001b[39mSession() \u001b[39mas\u001b[39;00m session:\n\u001b[1;32m---> 61\u001b[0m     \u001b[39mreturn\u001b[39;00m session\u001b[39m.\u001b[39mrequest(method\u001b[39m=\u001b[39mmethod, url\u001b[39m=\u001b[39murl, \u001b[39m*\u001b[39m\u001b[39m*\u001b[39mkwargs)\n",
      "File \u001b[1;32mc:\\Users\\Nitesh Kumar\\Python310\\lib\\site-packages\\requests\\sessions.py:529\u001b[0m, in \u001b[0;36mSession.request\u001b[1;34m(self, method, url, params, data, headers, cookies, files, auth, timeout, allow_redirects, proxies, hooks, stream, verify, cert, json)\u001b[0m\n\u001b[0;32m    524\u001b[0m send_kwargs \u001b[39m=\u001b[39m {\n\u001b[0;32m    525\u001b[0m     \u001b[39m'\u001b[39m\u001b[39mtimeout\u001b[39m\u001b[39m'\u001b[39m: timeout,\n\u001b[0;32m    526\u001b[0m     \u001b[39m'\u001b[39m\u001b[39mallow_redirects\u001b[39m\u001b[39m'\u001b[39m: allow_redirects,\n\u001b[0;32m    527\u001b[0m }\n\u001b[0;32m    528\u001b[0m send_kwargs\u001b[39m.\u001b[39mupdate(settings)\n\u001b[1;32m--> 529\u001b[0m resp \u001b[39m=\u001b[39m \u001b[39mself\u001b[39m\u001b[39m.\u001b[39msend(prep, \u001b[39m*\u001b[39m\u001b[39m*\u001b[39msend_kwargs)\n\u001b[0;32m    531\u001b[0m \u001b[39mreturn\u001b[39;00m resp\n",
      "File \u001b[1;32mc:\\Users\\Nitesh Kumar\\Python310\\lib\\site-packages\\requests\\sessions.py:645\u001b[0m, in \u001b[0;36mSession.send\u001b[1;34m(self, request, **kwargs)\u001b[0m\n\u001b[0;32m    642\u001b[0m start \u001b[39m=\u001b[39m preferred_clock()\n\u001b[0;32m    644\u001b[0m \u001b[39m# Send the request\u001b[39;00m\n\u001b[1;32m--> 645\u001b[0m r \u001b[39m=\u001b[39m adapter\u001b[39m.\u001b[39msend(request, \u001b[39m*\u001b[39m\u001b[39m*\u001b[39mkwargs)\n\u001b[0;32m    647\u001b[0m \u001b[39m# Total elapsed time of the request (approximately)\u001b[39;00m\n\u001b[0;32m    648\u001b[0m elapsed \u001b[39m=\u001b[39m preferred_clock() \u001b[39m-\u001b[39m start\n",
      "File \u001b[1;32mc:\\Users\\Nitesh Kumar\\Python310\\lib\\site-packages\\requests\\adapters.py:519\u001b[0m, in \u001b[0;36mHTTPAdapter.send\u001b[1;34m(self, request, stream, timeout, verify, cert, proxies)\u001b[0m\n\u001b[0;32m    515\u001b[0m     \u001b[39mif\u001b[39;00m \u001b[39misinstance\u001b[39m(e\u001b[39m.\u001b[39mreason, _SSLError):\n\u001b[0;32m    516\u001b[0m         \u001b[39m# This branch is for urllib3 v1.22 and later.\u001b[39;00m\n\u001b[0;32m    517\u001b[0m         \u001b[39mraise\u001b[39;00m SSLError(e, request\u001b[39m=\u001b[39mrequest)\n\u001b[1;32m--> 519\u001b[0m     \u001b[39mraise\u001b[39;00m \u001b[39mConnectionError\u001b[39;00m(e, request\u001b[39m=\u001b[39mrequest)\n\u001b[0;32m    521\u001b[0m \u001b[39mexcept\u001b[39;00m ClosedPoolError \u001b[39mas\u001b[39;00m e:\n\u001b[0;32m    522\u001b[0m     \u001b[39mraise\u001b[39;00m \u001b[39mConnectionError\u001b[39;00m(e, request\u001b[39m=\u001b[39mrequest)\n",
      "\u001b[1;31mConnectionError\u001b[0m: HTTPSConnectionPool(host='www.amazon.sg', port=443): Max retries exceeded with url: /Meguiar-G7164-Class-Shampoo-Conditioner/dp/B0009IQXFO/ref=zg_bs_automotive_sccl_1/356-7612797-1452314?psc=1 (Caused by NewConnectionError('<urllib3.connection.HTTPSConnection object at 0x000002B9EE867310>: Failed to establish a new connection: [Errno 11001] getaddrinfo failed'))"
     ]
    }
   ],
   "source": [
    "prop_content = r.get(li,headers=headers)\n",
    "data = html.fromstring(prop_content.content)"
   ]
  },
  {
   "cell_type": "code",
   "execution_count": null,
   "metadata": {},
   "outputs": [],
   "source": [
    "data.xpath(\"//th[contains(text(),'Manufacturer')]/following-sibling::td\")[0].text.strip().replace('\\u200e', '')"
   ]
  },
  {
   "cell_type": "code",
   "execution_count": 62,
   "metadata": {},
   "outputs": [
    {
     "data": {
      "text/plain": [
       "'https://www.amazon.sg/Sudocrem-Antiseptic-Healing-Cream-grams/dp/B000ZLQJHC/ref=zg_bs_baby_sccl_9/355-6368298-0575449?psc=1'"
      ]
     },
     "execution_count": 62,
     "metadata": {},
     "output_type": "execute_result"
    }
   ],
   "source": [
    "pro_links1[8]"
   ]
  },
  {
   "cell_type": "code",
   "execution_count": 64,
   "metadata": {},
   "outputs": [
    {
     "data": {
      "text/plain": [
       "''"
      ]
     },
     "execution_count": 64,
     "metadata": {},
     "output_type": "execute_result"
    }
   ],
   "source": [
    "data.xpath(\"//*[@id='merchant-info']/span[1]\")[0].text.strip()"
   ]
  },
  {
   "cell_type": "code",
   "execution_count": 67,
   "metadata": {},
   "outputs": [
    {
     "ename": "IndexError",
     "evalue": "list index out of range",
     "output_type": "error",
     "traceback": [
      "\u001b[1;31m---------------------------------------------------------------------------\u001b[0m",
      "\u001b[1;31mIndexError\u001b[0m                                Traceback (most recent call last)",
      "\u001b[1;32mc:\\Users\\Nitesh Kumar\\Desktop\\p01\\Amazon\\test.ipynb Cell 11\u001b[0m in \u001b[0;36m<cell line: 1>\u001b[1;34m()\u001b[0m\n\u001b[1;32m----> <a href='vscode-notebook-cell:/c%3A/Users/Nitesh%20Kumar/Desktop/p01/Amazon/test.ipynb#X54sZmlsZQ%3D%3D?line=0'>1</a>\u001b[0m data\u001b[39m.\u001b[39;49mxpath(\u001b[39m\"\u001b[39;49m\u001b[39m//span[@class=\u001b[39;49m\u001b[39m'\u001b[39;49m\u001b[39mcat-link\u001b[39;49m\u001b[39m'\u001b[39;49m\u001b[39m]\u001b[39;49m\u001b[39m\"\u001b[39;49m)[\u001b[39m0\u001b[39;49m]\u001b[39m.\u001b[39mtext\n",
      "\u001b[1;31mIndexError\u001b[0m: list index out of range"
     ]
    }
   ],
   "source": [
    "data.xpath(\"//span[@class='cat-link']\")[0].text"
   ]
  },
  {
   "cell_type": "code",
   "execution_count": 65,
   "metadata": {},
   "outputs": [
    {
     "data": {
      "text/plain": [
       "'Copharma Pte. Ltd.'"
      ]
     },
     "execution_count": 65,
     "metadata": {},
     "output_type": "execute_result"
    }
   ],
   "source": [
    "data.xpath(\"//th[contains(text(),'Manufacturer')]/following-sibling::td\")[0].text.strip().replace('\\u200e', '')"
   ]
  },
  {
   "cell_type": "code",
   "execution_count": 66,
   "metadata": {},
   "outputs": [
    {
     "data": {
      "text/plain": [
       "'Sudocrem Antiseptic Healing Cream, 125 grams'"
      ]
     },
     "execution_count": 66,
     "metadata": {},
     "output_type": "execute_result"
    }
   ],
   "source": [
    "data.xpath(\"//span[@id='productTitle']\")[0].text.strip()"
   ]
  },
  {
   "cell_type": "code",
   "execution_count": 46,
   "metadata": {},
   "outputs": [
    {
     "name": "stdout",
     "output_type": "stream",
     "text": [
      "https://www.amazon.sg/Apple-20W-USB-C-Power-Adapter/dp/B08L85KDV5/ref=zg_bs_electronics_sccl_1/355-9287108-9065922?psc=1\n",
      "https://www.amazon.sg/Apple-MQD83-AirPods-Pro-2nd-generation/dp/B0BDKGNMDJ/ref=zg_bs_electronics_sccl_2/355-9287108-9065922?psc=1\n"
     ]
    }
   ],
   "source": [
    "for url in pro_links1[:2]:\n",
    "      prop_data = {}\n",
    "      print(url)\n",
    "      prop_content = r.get(url,headers=headers)\n",
    "      data = html.fromstring(prop_content.content)\n",
    "      prop_data['Date'] = str(date.today())\n",
    "      try:\n",
    "        prop_data['Title'] =data.xpath(\"//span[@id='productTitle']\")[0].text.strip()\n",
    "      except:\n",
    "        prop_data['Title'] = ''\n",
    "      try:\n",
    "        prop_data['Price'] = data.xpath(\"//div[@class='a-section a-spacing-none aok-align-center']/span/span\")[0].text\n",
    "      except:\n",
    "        prop_data['Price'] = ''\n",
    "      try:\n",
    "        prop_data['No of Rating'] = data.xpath(\"//span[@id='acrCustomerReviewText']\")[0].text.strip()\n",
    "      except:\n",
    "        prop_data['No of Rating'] = ''\n",
    "      try:\n",
    "        prop_data['Manufacturer'] = data.xpath(\"//th[contains(text(),'Manufacturer')]/following-sibling::td\")[0].text.strip().replace('\\u200e', '')\n",
    "      except:\n",
    "        prop_data['Manufacturer'] = ''\n",
    "      try:\n",
    "        asin = re.search(r'/[dg]p/([^/]+)', pro_links[1], flags=re.IGNORECASE)\n",
    "        if asin:\n",
    "          prop_data['ASIN'] = asin.group(1)\n",
    "        else:\n",
    "          prop_data['ASIN'] = ''\n",
    "      except:\n",
    "        prop_data['ASIN'] = ''\n",
    "      try:\n",
    "        prop_data['Best_Seller_In'] = data.xpath(\"//span[@class='cat-link']\")[0].text\n",
    "      except:\n",
    "        prop_data['Best_Seller_In'] = ''\n",
    "      try:\n",
    "        prop_data['Sold By'] = data.xpath(\"//div[@id='merchant-info']/a/span/text()\")[0]\n",
    "      except:\n",
    "        prop_data['Sold By'] = ''\n",
    "      try:\n",
    "        prop_data['Rating'] = data.xpath(\"//i[@class='a-icon a-icon-star a-star-4-5']/span\")[0].text\n",
    "      except:\n",
    "        prop_data['Rating'] = ''\n",
    "      try:\n",
    "        prop_data['International Ratings'] = data.xpath(\"//div[@class='a-box a-spacing-none a-color-alternate-background review']/div\")[0].text.strip()\n",
    "      except:\n",
    "        prop_data['International Ratings'] = ''\n",
    "      try:\n",
    "        prop_data['Global Rating'] = data.xpath(\"//div[@data-hook='total-review-count']/span/text()\")[0].strip()\n",
    "      except:\n",
    "        prop_data['Global Rating'] = ''\n",
    "      prop_data['Url'] = url\n",
    "      all_data.append(prop_data)\n",
    "driver.quit()\n",
    "df=pd.DataFrame(all_data)"
   ]
  },
  {
   "cell_type": "code",
   "execution_count": 47,
   "metadata": {},
   "outputs": [
    {
     "data": {
      "text/html": [
       "<div>\n",
       "<style scoped>\n",
       "    .dataframe tbody tr th:only-of-type {\n",
       "        vertical-align: middle;\n",
       "    }\n",
       "\n",
       "    .dataframe tbody tr th {\n",
       "        vertical-align: top;\n",
       "    }\n",
       "\n",
       "    .dataframe thead th {\n",
       "        text-align: right;\n",
       "    }\n",
       "</style>\n",
       "<table border=\"1\" class=\"dataframe\">\n",
       "  <thead>\n",
       "    <tr style=\"text-align: right;\">\n",
       "      <th></th>\n",
       "      <th>Date</th>\n",
       "      <th>Title</th>\n",
       "      <th>Price</th>\n",
       "      <th>No of Rating</th>\n",
       "      <th>Manufacturer</th>\n",
       "      <th>ASIN</th>\n",
       "      <th>Best_Seller_In</th>\n",
       "      <th>Sold By</th>\n",
       "      <th>Rating</th>\n",
       "      <th>International Ratings</th>\n",
       "      <th>Global Rating</th>\n",
       "      <th>Url</th>\n",
       "    </tr>\n",
       "  </thead>\n",
       "  <tbody>\n",
       "    <tr>\n",
       "      <th>0</th>\n",
       "      <td>2022-12-27</td>\n",
       "      <td>Premium Chamois Drying Cloth Car Drying Towel ...</td>\n",
       "      <td></td>\n",
       "      <td>4 ratings</td>\n",
       "      <td>Ayvicco</td>\n",
       "      <td>B01ISAMUA6</td>\n",
       "      <td></td>\n",
       "      <td></td>\n",
       "      <td></td>\n",
       "      <td></td>\n",
       "      <td>4 global ratings</td>\n",
       "      <td>https://www.amazon.sg/Premium-Chamois-Absorben...</td>\n",
       "    </tr>\n",
       "    <tr>\n",
       "      <th>1</th>\n",
       "      <td>2022-12-27</td>\n",
       "      <td>Merries Pants Volume Up XL, 44ct (Pack of 2)</td>\n",
       "      <td></td>\n",
       "      <td>6 ratings</td>\n",
       "      <td>Merries</td>\n",
       "      <td>B083LZ7JHX</td>\n",
       "      <td>in Baby Products</td>\n",
       "      <td></td>\n",
       "      <td></td>\n",
       "      <td></td>\n",
       "      <td>6 global ratings</td>\n",
       "      <td>https://www.amazon.sg/Merries-Pants-Up-44ct-Pa...</td>\n",
       "    </tr>\n",
       "    <tr>\n",
       "      <th>2</th>\n",
       "      <td>2022-12-27</td>\n",
       "      <td>CeraVe PM Facial Moisturizing Lotion | Night C...</td>\n",
       "      <td></td>\n",
       "      <td>41,810 ratings</td>\n",
       "      <td>CeraVe</td>\n",
       "      <td>B07VWSN95S</td>\n",
       "      <td>in Beauty</td>\n",
       "      <td></td>\n",
       "      <td>4.7 out of 5 stars</td>\n",
       "      <td></td>\n",
       "      <td>41,810 global ratings</td>\n",
       "      <td>https://www.amazon.sg/CeraVe-Moisturizing-Niac...</td>\n",
       "    </tr>\n",
       "    <tr>\n",
       "      <th>3</th>\n",
       "      <td>2022-12-27</td>\n",
       "      <td>The Psychology of Money: Timeless lessons on w...</td>\n",
       "      <td></td>\n",
       "      <td>9,091 ratings</td>\n",
       "      <td></td>\n",
       "      <td>0241621240</td>\n",
       "      <td>in Books</td>\n",
       "      <td></td>\n",
       "      <td>4.7 out of 5 stars</td>\n",
       "      <td></td>\n",
       "      <td>9,091 global ratings</td>\n",
       "      <td>https://www.amazon.sg/Psychology-Money-Timeles...</td>\n",
       "    </tr>\n",
       "    <tr>\n",
       "      <th>4</th>\n",
       "      <td>2022-12-27</td>\n",
       "      <td>Cocoon GRID-IT Organizer Case, Black</td>\n",
       "      <td></td>\n",
       "      <td>1,943 ratings</td>\n",
       "      <td>Cocoon</td>\n",
       "      <td>B01MCVAHNA</td>\n",
       "      <td>in Computers</td>\n",
       "      <td></td>\n",
       "      <td>4.5 out of 5 stars</td>\n",
       "      <td>There are 0 reviews and 1 rating from Singapore</td>\n",
       "      <td>1,943 global ratings</td>\n",
       "      <td>https://www.amazon.sg/Cocoon-GRID-IT-Organizer...</td>\n",
       "    </tr>\n",
       "    <tr>\n",
       "      <th>5</th>\n",
       "      <td>2022-12-27</td>\n",
       "      <td>Extension Cord with Individual Switches, J Ele...</td>\n",
       "      <td></td>\n",
       "      <td>37 ratings</td>\n",
       "      <td>J Elektro</td>\n",
       "      <td>B087TH1R6T</td>\n",
       "      <td>in DIY &amp; Tools</td>\n",
       "      <td></td>\n",
       "      <td></td>\n",
       "      <td></td>\n",
       "      <td>37 global ratings</td>\n",
       "      <td>https://www.amazon.sg/Extension-Individual-Ele...</td>\n",
       "    </tr>\n",
       "    <tr>\n",
       "      <th>6</th>\n",
       "      <td>2022-12-27</td>\n",
       "      <td>Apple 20W USB-C Power Adapter</td>\n",
       "      <td>S$22.00</td>\n",
       "      <td>89 ratings</td>\n",
       "      <td>Apple</td>\n",
       "      <td>B0BDKGNMDJ</td>\n",
       "      <td></td>\n",
       "      <td></td>\n",
       "      <td>4.7 out of 5 stars</td>\n",
       "      <td></td>\n",
       "      <td>89 global ratings</td>\n",
       "      <td>https://www.amazon.sg/Apple-20W-USB-C-Power-Ad...</td>\n",
       "    </tr>\n",
       "    <tr>\n",
       "      <th>7</th>\n",
       "      <td>2022-12-27</td>\n",
       "      <td>Apple 20W USB-C Power Adapter</td>\n",
       "      <td>S$22.00</td>\n",
       "      <td>89 ratings</td>\n",
       "      <td></td>\n",
       "      <td>B0BDKGNMDJ</td>\n",
       "      <td></td>\n",
       "      <td></td>\n",
       "      <td>4.7 out of 5 stars</td>\n",
       "      <td></td>\n",
       "      <td>89 global ratings</td>\n",
       "      <td>https://www.amazon.sg/Apple-20W-USB-C-Power-Ad...</td>\n",
       "    </tr>\n",
       "    <tr>\n",
       "      <th>8</th>\n",
       "      <td>2022-12-27</td>\n",
       "      <td>Apple AirPods Pro (2nd generation) ​​​​​​​</td>\n",
       "      <td>S$359.00</td>\n",
       "      <td>109 ratings</td>\n",
       "      <td></td>\n",
       "      <td>B0BDKGNMDJ</td>\n",
       "      <td></td>\n",
       "      <td>EpicentreSG</td>\n",
       "      <td>4.5 out of 5 stars</td>\n",
       "      <td></td>\n",
       "      <td>109 global ratings</td>\n",
       "      <td>https://www.amazon.sg/Apple-MQD83-AirPods-Pro-...</td>\n",
       "    </tr>\n",
       "  </tbody>\n",
       "</table>\n",
       "</div>"
      ],
      "text/plain": [
       "         Date                                              Title     Price  \\\n",
       "0  2022-12-27  Premium Chamois Drying Cloth Car Drying Towel ...             \n",
       "1  2022-12-27       Merries Pants Volume Up XL, 44ct (Pack of 2)             \n",
       "2  2022-12-27  CeraVe PM Facial Moisturizing Lotion | Night C...             \n",
       "3  2022-12-27  The Psychology of Money: Timeless lessons on w...             \n",
       "4  2022-12-27               Cocoon GRID-IT Organizer Case, Black             \n",
       "5  2022-12-27  Extension Cord with Individual Switches, J Ele...             \n",
       "6  2022-12-27                      Apple 20W USB-C Power Adapter   S$22.00   \n",
       "7  2022-12-27                      Apple 20W USB-C Power Adapter   S$22.00   \n",
       "8  2022-12-27         Apple AirPods Pro (2nd generation) ​​​​​​​  S$359.00   \n",
       "\n",
       "     No of Rating Manufacturer        ASIN    Best_Seller_In      Sold By  \\\n",
       "0       4 ratings      Ayvicco  B01ISAMUA6                                  \n",
       "1       6 ratings      Merries  B083LZ7JHX  in Baby Products                \n",
       "2  41,810 ratings       CeraVe  B07VWSN95S         in Beauty                \n",
       "3   9,091 ratings               0241621240          in Books                \n",
       "4   1,943 ratings       Cocoon  B01MCVAHNA      in Computers                \n",
       "5      37 ratings    J Elektro  B087TH1R6T    in DIY & Tools                \n",
       "6      89 ratings        Apple  B0BDKGNMDJ                                  \n",
       "7      89 ratings               B0BDKGNMDJ                                  \n",
       "8     109 ratings               B0BDKGNMDJ                    EpicentreSG   \n",
       "\n",
       "               Rating                            International Ratings  \\\n",
       "0                                                                        \n",
       "1                                                                        \n",
       "2  4.7 out of 5 stars                                                    \n",
       "3  4.7 out of 5 stars                                                    \n",
       "4  4.5 out of 5 stars  There are 0 reviews and 1 rating from Singapore   \n",
       "5                                                                        \n",
       "6  4.7 out of 5 stars                                                    \n",
       "7  4.7 out of 5 stars                                                    \n",
       "8  4.5 out of 5 stars                                                    \n",
       "\n",
       "           Global Rating                                                Url  \n",
       "0       4 global ratings  https://www.amazon.sg/Premium-Chamois-Absorben...  \n",
       "1       6 global ratings  https://www.amazon.sg/Merries-Pants-Up-44ct-Pa...  \n",
       "2  41,810 global ratings  https://www.amazon.sg/CeraVe-Moisturizing-Niac...  \n",
       "3   9,091 global ratings  https://www.amazon.sg/Psychology-Money-Timeles...  \n",
       "4   1,943 global ratings  https://www.amazon.sg/Cocoon-GRID-IT-Organizer...  \n",
       "5      37 global ratings  https://www.amazon.sg/Extension-Individual-Ele...  \n",
       "6      89 global ratings  https://www.amazon.sg/Apple-20W-USB-C-Power-Ad...  \n",
       "7      89 global ratings  https://www.amazon.sg/Apple-20W-USB-C-Power-Ad...  \n",
       "8     109 global ratings  https://www.amazon.sg/Apple-MQD83-AirPods-Pro-...  "
      ]
     },
     "execution_count": 47,
     "metadata": {},
     "output_type": "execute_result"
    }
   ],
   "source": [
    "df"
   ]
  },
  {
   "cell_type": "code",
   "execution_count": 18,
   "metadata": {},
   "outputs": [],
   "source": [
    "import re"
   ]
  },
  {
   "cell_type": "code",
   "execution_count": 34,
   "metadata": {},
   "outputs": [],
   "source": [
    "url = 'https://www.amazon.sg/dp/B0869THJLD'"
   ]
  },
  {
   "cell_type": "code",
   "execution_count": 35,
   "metadata": {},
   "outputs": [],
   "source": [
    "prop_content = r.get(url,headers=headers)\n",
    "data = html.fromstring(prop_content.content)"
   ]
  },
  {
   "cell_type": "code",
   "execution_count": 43,
   "metadata": {},
   "outputs": [
    {
     "data": {
      "text/plain": [
       "'7 ratings'"
      ]
     },
     "execution_count": 43,
     "metadata": {},
     "output_type": "execute_result"
    }
   ],
   "source": [
    "data.xpath(\"//span[@id='acrCustomerReviewText']\")[0].text.strip()"
   ]
  },
  {
   "cell_type": "code",
   "execution_count": 44,
   "metadata": {},
   "outputs": [
    {
     "data": {
      "text/plain": [
       "'3M'"
      ]
     },
     "execution_count": 44,
     "metadata": {},
     "output_type": "execute_result"
    }
   ],
   "source": [
    "data.xpath(\"//th[contains(text(),'Manufacturer')]/following-sibling::td\")[0].text.strip().replace('\\u200e', '')"
   ]
  },
  {
   "cell_type": "code",
   "execution_count": 23,
   "metadata": {},
   "outputs": [
    {
     "data": {
      "text/plain": [
       "['https://www.amazon.sg/Cocoon-GRID-IT-Organizer-Case-Black/dp/B00479FQCM/ref=zg_bs_computers_sccl_1/355-9287108-9065922?psc=1',\n",
       " 'https://www.amazon.sg/Apple-Pencil-Tips-4-pack/dp/B01MCVAHNA/ref=zg_bs_computers_sccl_2/355-9287108-9065922?psc=1',\n",
       " 'https://www.amazon.sg/StarTech-com-5-25-Trayless-Hard-Drive/dp/B073JJ2FVR/ref=zg_bs_computers_sccl_3/355-9287108-9065922?psc=1',\n",
       " 'https://www.amazon.sg/Skooba-Accessory-Shoulder-Strap-995-400/dp/B002BUJJOK/ref=zg_bs_computers_sccl_4/355-9287108-9065922?psc=1',\n",
       " 'https://www.amazon.sg/ProCase-Carrying-Nintendo-Switch-Holders/dp/B06XFVTHQ4/ref=zg_bs_computers_sccl_5/355-9287108-9065922?psc=1']"
      ]
     },
     "execution_count": 23,
     "metadata": {},
     "output_type": "execute_result"
    }
   ],
   "source": [
    "pro_links[:5]"
   ]
  },
  {
   "cell_type": "code",
   "execution_count": 26,
   "metadata": {},
   "outputs": [],
   "source": [
    "re.match(\"http[s]?://www.amazon.sg(\\w+)(.*)/(dp)/(?P<asin>\\w+).*\", pro_links[1], flags=re.IGNORECASE)"
   ]
  },
  {
   "cell_type": "code",
   "execution_count": 30,
   "metadata": {},
   "outputs": [],
   "source": [
    "asin = re.search(r'/[dg]p/([^/]+)', pro_links[1], flags=re.IGNORECASE)\n",
    "if asin:\n",
    "  print(asin.group(1))"
   ]
  },
  {
   "cell_type": "code",
   "execution_count": 31,
   "metadata": {},
   "outputs": [
    {
     "name": "stdout",
     "output_type": "stream",
     "text": [
      "B01MCVAHNA\n"
     ]
    }
   ],
   "source": [
    "\n"
   ]
  },
  {
   "cell_type": "code",
   "execution_count": 13,
   "metadata": {},
   "outputs": [],
   "source": [
    "pro_links1 = [pro.get_attribute(\"href\") for pro in driver.find_elements(By.XPATH,\"//div[@class='zg-grid-general-faceout']/div/a[1]\")]"
   ]
  },
  {
   "cell_type": "code",
   "execution_count": 14,
   "metadata": {},
   "outputs": [
    {
     "data": {
      "text/plain": [
       "[]"
      ]
     },
     "execution_count": 14,
     "metadata": {},
     "output_type": "execute_result"
    }
   ],
   "source": [
    "pro_links1"
   ]
  },
  {
   "cell_type": "code",
   "execution_count": 6,
   "metadata": {},
   "outputs": [
    {
     "data": {
      "text/plain": [
       "[]"
      ]
     },
     "execution_count": 6,
     "metadata": {},
     "output_type": "execute_result"
    }
   ],
   "source": [
    "pro_links1"
   ]
  },
  {
   "cell_type": "code",
   "execution_count": 7,
   "metadata": {},
   "outputs": [
    {
     "ename": "IndexError",
     "evalue": "list index out of range",
     "output_type": "error",
     "traceback": [
      "\u001b[1;31m---------------------------------------------------------------------------\u001b[0m",
      "\u001b[1;31mIndexError\u001b[0m                                Traceback (most recent call last)",
      "\u001b[1;32mc:\\Users\\Nitesh Kumar\\Desktop\\p01\\Amazon\\test.ipynb Cell 6\u001b[0m in \u001b[0;36m<cell line: 1>\u001b[1;34m()\u001b[0m\n\u001b[1;32m----> <a href='vscode-notebook-cell:/c%3A/Users/Nitesh%20Kumar/Desktop/p01/Amazon/test.ipynb#W4sZmlsZQ%3D%3D?line=0'>1</a>\u001b[0m pro_links1[\u001b[39m2\u001b[39;49m]\n",
      "\u001b[1;31mIndexError\u001b[0m: list index out of range"
     ]
    }
   ],
   "source": [
    "pro_links1[2]"
   ]
  },
  {
   "cell_type": "code",
   "execution_count": null,
   "metadata": {},
   "outputs": [],
   "source": [
    "prop_content = r.get(\"https://www.amazon.sg/A282H-3397008634-Original-Equipment-Replacement/dp/B0042ETBEQ/ref=zg_bs_automotive_sccl_1/357-9950803-4534143?th=1\",headers=headers)"
   ]
  },
  {
   "cell_type": "code",
   "execution_count": null,
   "metadata": {},
   "outputs": [],
   "source": [
    "datay = html.fromstring(prop_content.content)"
   ]
  },
  {
   "cell_type": "code",
   "execution_count": null,
   "metadata": {},
   "outputs": [],
   "source": [
    "data = ''"
   ]
  },
  {
   "cell_type": "code",
   "execution_count": null,
   "metadata": {},
   "outputs": [
    {
     "data": {
      "text/plain": [
       "'BOSCH Rear Wiper Blade A282H/3397008634 Original Equipment Replacement- 11\" (Pack of 1)'"
      ]
     },
     "execution_count": 96,
     "metadata": {},
     "output_type": "execute_result"
    }
   ],
   "source": [
    "datax.xpath(\"//span[@id='productTitle']\")[0].text.strip()"
   ]
  },
  {
   "cell_type": "code",
   "execution_count": null,
   "metadata": {},
   "outputs": [
    {
     "data": {
      "text/plain": [
       "'S$15.13'"
      ]
     },
     "execution_count": 97,
     "metadata": {},
     "output_type": "execute_result"
    }
   ],
   "source": [
    "datax.xpath(\"//div[@class='a-section a-spacing-none aok-align-center']/span/span\")[0].text"
   ]
  },
  {
   "cell_type": "code",
   "execution_count": null,
   "metadata": {},
   "outputs": [
    {
     "data": {
      "text/plain": [
       "'in Automotive'"
      ]
     },
     "execution_count": 98,
     "metadata": {},
     "output_type": "execute_result"
    }
   ],
   "source": [
    "datax.xpath(\"//span[@class='cat-link']\")[0].text"
   ]
  },
  {
   "cell_type": "code",
   "execution_count": null,
   "metadata": {},
   "outputs": [
    {
     "data": {
      "text/plain": [
       "['Amazon Japan']"
      ]
     },
     "execution_count": 102,
     "metadata": {},
     "output_type": "execute_result"
    }
   ],
   "source": [
    "datay.xpath(\"//div[@id='merchant-info']/a/span/text()\")"
   ]
  },
  {
   "cell_type": "code",
   "execution_count": null,
   "metadata": {},
   "outputs": [],
   "source": [
    "//div[@id='merchant-info']/text()"
   ]
  },
  {
   "cell_type": "code",
   "execution_count": null,
   "metadata": {},
   "outputs": [
    {
     "data": {
      "text/plain": [
       "'4.7 out of 5 stars'"
      ]
     },
     "execution_count": 90,
     "metadata": {},
     "output_type": "execute_result"
    }
   ],
   "source": [
    "datax.xpath(\"//i[@class='a-icon a-icon-star a-star-4-5']/span\")[0].text"
   ]
  },
  {
   "cell_type": "code",
   "execution_count": null,
   "metadata": {},
   "outputs": [
    {
     "data": {
      "text/plain": [
       "'191 global ratings'"
      ]
     },
     "execution_count": 91,
     "metadata": {},
     "output_type": "execute_result"
    }
   ],
   "source": [
    "datax.xpath(\"//div[@data-hook='total-review-count']/span/text()\")[0].strip()"
   ]
  },
  {
   "cell_type": "code",
   "execution_count": null,
   "metadata": {},
   "outputs": [
    {
     "data": {
      "text/plain": [
       "'191 ratings'"
      ]
     },
     "execution_count": 92,
     "metadata": {},
     "output_type": "execute_result"
    }
   ],
   "source": [
    "datax.xpath(\"//span[@id='acrCustomerReviewText']\")[0].text.strip()"
   ]
  }
 ],
 "metadata": {
  "kernelspec": {
   "display_name": "Python 3",
   "language": "python",
   "name": "python3"
  },
  "language_info": {
   "codemirror_mode": {
    "name": "ipython",
    "version": 3
   },
   "file_extension": ".py",
   "mimetype": "text/x-python",
   "name": "python",
   "nbconvert_exporter": "python",
   "pygments_lexer": "ipython3",
   "version": "3.10.0"
  },
  "orig_nbformat": 4,
  "vscode": {
   "interpreter": {
    "hash": "03bb167a03bba09ea99b5fd463499996a0f3a3e5d26b6a00281fc2a314711845"
   }
  }
 },
 "nbformat": 4,
 "nbformat_minor": 2
}
